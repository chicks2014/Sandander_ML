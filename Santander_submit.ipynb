{
 "cells": [
  {
   "cell_type": "markdown",
   "metadata": {
    "colab_type": "text",
    "id": "MrU5Bn8zlw9Q"
   },
   "source": [
    "# Load libraries and dataset\n",
    "\n",
    "---\n",
    "\n"
   ]
  },
  {
   "cell_type": "code",
   "execution_count": 1,
   "metadata": {
    "colab": {},
    "colab_type": "code",
    "id": "VNK5b9eHdZpL"
   },
   "outputs": [
    {
     "name": "stderr",
     "output_type": "stream",
     "text": [
      "Using TensorFlow backend.\n",
      "C:\\Anaconda\\lib\\site-packages\\sklearn\\utils\\deprecation.py:144: FutureWarning: The sklearn.neighbors.base module is  deprecated in version 0.22 and will be removed in version 0.24. The corresponding classes / functions should instead be imported from sklearn.neighbors. Anything that cannot be imported from sklearn.neighbors is now part of the private API.\n",
      "  warnings.warn(message, FutureWarning)\n",
      "C:\\Anaconda\\lib\\site-packages\\sklearn\\utils\\deprecation.py:144: FutureWarning: The sklearn.ensemble.bagging module is  deprecated in version 0.22 and will be removed in version 0.24. The corresponding classes / functions should instead be imported from sklearn.ensemble. Anything that cannot be imported from sklearn.ensemble is now part of the private API.\n",
      "  warnings.warn(message, FutureWarning)\n",
      "C:\\Anaconda\\lib\\site-packages\\sklearn\\utils\\deprecation.py:144: FutureWarning: The sklearn.ensemble.base module is  deprecated in version 0.22 and will be removed in version 0.24. The corresponding classes / functions should instead be imported from sklearn.ensemble. Anything that cannot be imported from sklearn.ensemble is now part of the private API.\n",
      "  warnings.warn(message, FutureWarning)\n",
      "C:\\Anaconda\\lib\\site-packages\\sklearn\\utils\\deprecation.py:144: FutureWarning: The sklearn.ensemble.forest module is  deprecated in version 0.22 and will be removed in version 0.24. The corresponding classes / functions should instead be imported from sklearn.ensemble. Anything that cannot be imported from sklearn.ensemble is now part of the private API.\n",
      "  warnings.warn(message, FutureWarning)\n",
      "C:\\Anaconda\\lib\\site-packages\\sklearn\\utils\\deprecation.py:144: FutureWarning: The sklearn.utils.testing module is  deprecated in version 0.22 and will be removed in version 0.24. The corresponding classes / functions should instead be imported from sklearn.utils. Anything that cannot be imported from sklearn.utils is now part of the private API.\n",
      "  warnings.warn(message, FutureWarning)\n",
      "C:\\Anaconda\\lib\\site-packages\\sklearn\\utils\\deprecation.py:144: FutureWarning: The sklearn.metrics.classification module is  deprecated in version 0.22 and will be removed in version 0.24. The corresponding classes / functions should instead be imported from sklearn.metrics. Anything that cannot be imported from sklearn.metrics is now part of the private API.\n",
      "  warnings.warn(message, FutureWarning)\n"
     ]
    }
   ],
   "source": [
    "import pandas as pd\n",
    "import numpy as np\n",
    "from fancyimpute import KNN\n",
    "from imblearn.over_sampling import SMOTE\n",
    "from sklearn.model_selection import train_test_split \n",
    "from sklearn.linear_model import LogisticRegression\n",
    "from sklearn.ensemble import RandomForestClassifier\n",
    "from sklearn.neighbors import KNeighborsClassifier\n",
    "from sklearn.naive_bayes import GaussianNB\n",
    "import sklearn.metrics as metrics\n",
    "import matplotlib.pyplot as plt\n",
    "from sklearn.metrics import roc_auc_score\n",
    "import seaborn as sns\n",
    "import random\n",
    "import os\n"
   ]
  },
  {
   "cell_type": "code",
   "execution_count": 2,
   "metadata": {
    "colab": {},
    "colab_type": "code",
    "id": "D80RoX0WeFAD"
   },
   "outputs": [],
   "source": [
    "# load data set\n",
    "santander_train = pd.read_csv(\"https://s3-ap-southeast-1.amazonaws.com/edwisor-india-bucket/projects/data/DataN0106/train.csv\")\n",
    "santander_test = pd.read_csv(\"https://s3-ap-southeast-1.amazonaws.com/edwisor-india-bucket/projects/data/DataN0106/test.csv\")"
   ]
  },
  {
   "cell_type": "markdown",
   "metadata": {
    "colab_type": "text",
    "id": "Bum2O0ohmBbX"
   },
   "source": [
    "# Exploratory data analysis\n",
    "\n",
    "---\n",
    "\n"
   ]
  },
  {
   "cell_type": "code",
   "execution_count": 3,
   "metadata": {
    "colab": {
     "base_uri": "https://localhost:8080/",
     "height": 0
    },
    "colab_type": "code",
    "id": "GO1CWa1-gfBu",
    "outputId": "a1870ecd-7aeb-4367-dd9e-58ab0058d65e"
   },
   "outputs": [
    {
     "name": "stdout",
     "output_type": "stream",
     "text": [
      "<class 'pandas.core.frame.DataFrame'>\n",
      "RangeIndex: 200000 entries, 0 to 199999\n",
      "Columns: 202 entries, ID_code to var_199\n",
      "dtypes: float64(200), int64(1), object(1)\n",
      "memory usage: 308.2+ MB\n",
      "None\n"
     ]
    },
    {
     "data": {
      "text/html": [
       "<div>\n",
       "<style scoped>\n",
       "    .dataframe tbody tr th:only-of-type {\n",
       "        vertical-align: middle;\n",
       "    }\n",
       "\n",
       "    .dataframe tbody tr th {\n",
       "        vertical-align: top;\n",
       "    }\n",
       "\n",
       "    .dataframe thead th {\n",
       "        text-align: right;\n",
       "    }\n",
       "</style>\n",
       "<table border=\"1\" class=\"dataframe\">\n",
       "  <thead>\n",
       "    <tr style=\"text-align: right;\">\n",
       "      <th></th>\n",
       "      <th>ID_code</th>\n",
       "      <th>target</th>\n",
       "      <th>var_0</th>\n",
       "      <th>var_1</th>\n",
       "      <th>var_2</th>\n",
       "      <th>var_3</th>\n",
       "      <th>var_4</th>\n",
       "      <th>var_5</th>\n",
       "      <th>var_6</th>\n",
       "      <th>var_7</th>\n",
       "      <th>...</th>\n",
       "      <th>var_190</th>\n",
       "      <th>var_191</th>\n",
       "      <th>var_192</th>\n",
       "      <th>var_193</th>\n",
       "      <th>var_194</th>\n",
       "      <th>var_195</th>\n",
       "      <th>var_196</th>\n",
       "      <th>var_197</th>\n",
       "      <th>var_198</th>\n",
       "      <th>var_199</th>\n",
       "    </tr>\n",
       "  </thead>\n",
       "  <tbody>\n",
       "    <tr>\n",
       "      <td>6962</td>\n",
       "      <td>train_6962</td>\n",
       "      <td>1</td>\n",
       "      <td>14.9336</td>\n",
       "      <td>1.2655</td>\n",
       "      <td>8.6555</td>\n",
       "      <td>6.7244</td>\n",
       "      <td>11.1839</td>\n",
       "      <td>-10.6182</td>\n",
       "      <td>6.6219</td>\n",
       "      <td>16.8936</td>\n",
       "      <td>...</td>\n",
       "      <td>10.7852</td>\n",
       "      <td>6.1238</td>\n",
       "      <td>1.3709</td>\n",
       "      <td>2.2528</td>\n",
       "      <td>22.9999</td>\n",
       "      <td>1.1482</td>\n",
       "      <td>-2.8665</td>\n",
       "      <td>10.6950</td>\n",
       "      <td>13.4711</td>\n",
       "      <td>0.0542</td>\n",
       "    </tr>\n",
       "    <tr>\n",
       "      <td>42886</td>\n",
       "      <td>train_42886</td>\n",
       "      <td>0</td>\n",
       "      <td>9.9578</td>\n",
       "      <td>7.8406</td>\n",
       "      <td>8.5347</td>\n",
       "      <td>5.6595</td>\n",
       "      <td>10.7248</td>\n",
       "      <td>-1.3859</td>\n",
       "      <td>5.3352</td>\n",
       "      <td>16.3973</td>\n",
       "      <td>...</td>\n",
       "      <td>-0.2698</td>\n",
       "      <td>4.1097</td>\n",
       "      <td>3.9513</td>\n",
       "      <td>-0.6326</td>\n",
       "      <td>15.5537</td>\n",
       "      <td>-1.5006</td>\n",
       "      <td>-4.4750</td>\n",
       "      <td>7.7963</td>\n",
       "      <td>19.4598</td>\n",
       "      <td>10.2961</td>\n",
       "    </tr>\n",
       "    <tr>\n",
       "      <td>81391</td>\n",
       "      <td>train_81391</td>\n",
       "      <td>0</td>\n",
       "      <td>9.9982</td>\n",
       "      <td>-2.1641</td>\n",
       "      <td>13.9853</td>\n",
       "      <td>10.9516</td>\n",
       "      <td>10.8750</td>\n",
       "      <td>-1.0496</td>\n",
       "      <td>5.5921</td>\n",
       "      <td>19.3030</td>\n",
       "      <td>...</td>\n",
       "      <td>2.4597</td>\n",
       "      <td>10.6782</td>\n",
       "      <td>2.1746</td>\n",
       "      <td>5.9914</td>\n",
       "      <td>13.8102</td>\n",
       "      <td>-1.2739</td>\n",
       "      <td>5.0127</td>\n",
       "      <td>7.7782</td>\n",
       "      <td>9.6771</td>\n",
       "      <td>0.3126</td>\n",
       "    </tr>\n",
       "    <tr>\n",
       "      <td>40547</td>\n",
       "      <td>train_40547</td>\n",
       "      <td>0</td>\n",
       "      <td>10.5314</td>\n",
       "      <td>1.0528</td>\n",
       "      <td>10.6692</td>\n",
       "      <td>6.6427</td>\n",
       "      <td>9.3425</td>\n",
       "      <td>-7.5437</td>\n",
       "      <td>6.9546</td>\n",
       "      <td>18.3162</td>\n",
       "      <td>...</td>\n",
       "      <td>5.5991</td>\n",
       "      <td>8.4720</td>\n",
       "      <td>3.4234</td>\n",
       "      <td>5.1231</td>\n",
       "      <td>16.8987</td>\n",
       "      <td>1.0995</td>\n",
       "      <td>9.2488</td>\n",
       "      <td>6.5493</td>\n",
       "      <td>14.0953</td>\n",
       "      <td>-19.6290</td>\n",
       "    </tr>\n",
       "    <tr>\n",
       "      <td>76597</td>\n",
       "      <td>train_76597</td>\n",
       "      <td>0</td>\n",
       "      <td>13.3954</td>\n",
       "      <td>-7.1123</td>\n",
       "      <td>12.6526</td>\n",
       "      <td>6.5166</td>\n",
       "      <td>10.2945</td>\n",
       "      <td>-4.0533</td>\n",
       "      <td>4.8879</td>\n",
       "      <td>23.5008</td>\n",
       "      <td>...</td>\n",
       "      <td>8.0371</td>\n",
       "      <td>6.7874</td>\n",
       "      <td>2.6610</td>\n",
       "      <td>-4.9383</td>\n",
       "      <td>20.1315</td>\n",
       "      <td>2.3369</td>\n",
       "      <td>0.5459</td>\n",
       "      <td>8.5351</td>\n",
       "      <td>17.5577</td>\n",
       "      <td>12.3562</td>\n",
       "    </tr>\n",
       "  </tbody>\n",
       "</table>\n",
       "<p>5 rows × 202 columns</p>\n",
       "</div>"
      ],
      "text/plain": [
       "           ID_code  target    var_0   var_1    var_2    var_3    var_4  \\\n",
       "6962    train_6962       1  14.9336  1.2655   8.6555   6.7244  11.1839   \n",
       "42886  train_42886       0   9.9578  7.8406   8.5347   5.6595  10.7248   \n",
       "81391  train_81391       0   9.9982 -2.1641  13.9853  10.9516  10.8750   \n",
       "40547  train_40547       0  10.5314  1.0528  10.6692   6.6427   9.3425   \n",
       "76597  train_76597       0  13.3954 -7.1123  12.6526   6.5166  10.2945   \n",
       "\n",
       "         var_5   var_6    var_7  ...  var_190  var_191  var_192  var_193  \\\n",
       "6962  -10.6182  6.6219  16.8936  ...  10.7852   6.1238   1.3709   2.2528   \n",
       "42886  -1.3859  5.3352  16.3973  ...  -0.2698   4.1097   3.9513  -0.6326   \n",
       "81391  -1.0496  5.5921  19.3030  ...   2.4597  10.6782   2.1746   5.9914   \n",
       "40547  -7.5437  6.9546  18.3162  ...   5.5991   8.4720   3.4234   5.1231   \n",
       "76597  -4.0533  4.8879  23.5008  ...   8.0371   6.7874   2.6610  -4.9383   \n",
       "\n",
       "       var_194  var_195  var_196  var_197  var_198  var_199  \n",
       "6962   22.9999   1.1482  -2.8665  10.6950  13.4711   0.0542  \n",
       "42886  15.5537  -1.5006  -4.4750   7.7963  19.4598  10.2961  \n",
       "81391  13.8102  -1.2739   5.0127   7.7782   9.6771   0.3126  \n",
       "40547  16.8987   1.0995   9.2488   6.5493  14.0953 -19.6290  \n",
       "76597  20.1315   2.3369   0.5459   8.5351  17.5577  12.3562  \n",
       "\n",
       "[5 rows x 202 columns]"
      ]
     },
     "execution_count": 3,
     "metadata": {},
     "output_type": "execute_result"
    }
   ],
   "source": [
    "# view random 5 records from train dataset\n",
    "print(santander_train.info())\n",
    "santander_train.sample(5)"
   ]
  },
  {
   "cell_type": "code",
   "execution_count": 4,
   "metadata": {
    "colab": {
     "base_uri": "https://localhost:8080/",
     "height": 0
    },
    "colab_type": "code",
    "id": "kxn64ZXay89C",
    "outputId": "41ea3c5e-8ce8-4394-cce6-ce19a07b699a"
   },
   "outputs": [
    {
     "name": "stdout",
     "output_type": "stream",
     "text": [
      "<class 'pandas.core.frame.DataFrame'>\n",
      "RangeIndex: 200000 entries, 0 to 199999\n",
      "Columns: 201 entries, ID_code to var_199\n",
      "dtypes: float64(200), object(1)\n",
      "memory usage: 306.7+ MB\n",
      "None\n"
     ]
    },
    {
     "data": {
      "text/html": [
       "<div>\n",
       "<style scoped>\n",
       "    .dataframe tbody tr th:only-of-type {\n",
       "        vertical-align: middle;\n",
       "    }\n",
       "\n",
       "    .dataframe tbody tr th {\n",
       "        vertical-align: top;\n",
       "    }\n",
       "\n",
       "    .dataframe thead th {\n",
       "        text-align: right;\n",
       "    }\n",
       "</style>\n",
       "<table border=\"1\" class=\"dataframe\">\n",
       "  <thead>\n",
       "    <tr style=\"text-align: right;\">\n",
       "      <th></th>\n",
       "      <th>ID_code</th>\n",
       "      <th>var_0</th>\n",
       "      <th>var_1</th>\n",
       "      <th>var_2</th>\n",
       "      <th>var_3</th>\n",
       "      <th>var_4</th>\n",
       "      <th>var_5</th>\n",
       "      <th>var_6</th>\n",
       "      <th>var_7</th>\n",
       "      <th>var_8</th>\n",
       "      <th>...</th>\n",
       "      <th>var_190</th>\n",
       "      <th>var_191</th>\n",
       "      <th>var_192</th>\n",
       "      <th>var_193</th>\n",
       "      <th>var_194</th>\n",
       "      <th>var_195</th>\n",
       "      <th>var_196</th>\n",
       "      <th>var_197</th>\n",
       "      <th>var_198</th>\n",
       "      <th>var_199</th>\n",
       "    </tr>\n",
       "  </thead>\n",
       "  <tbody>\n",
       "    <tr>\n",
       "      <td>181930</td>\n",
       "      <td>test_181930</td>\n",
       "      <td>6.4878</td>\n",
       "      <td>-9.8429</td>\n",
       "      <td>12.0218</td>\n",
       "      <td>7.8614</td>\n",
       "      <td>8.3899</td>\n",
       "      <td>-14.1334</td>\n",
       "      <td>4.3718</td>\n",
       "      <td>21.9922</td>\n",
       "      <td>4.6989</td>\n",
       "      <td>...</td>\n",
       "      <td>-2.5124</td>\n",
       "      <td>8.8216</td>\n",
       "      <td>2.9751</td>\n",
       "      <td>9.7237</td>\n",
       "      <td>14.0464</td>\n",
       "      <td>-0.2979</td>\n",
       "      <td>-5.5474</td>\n",
       "      <td>9.0002</td>\n",
       "      <td>10.4226</td>\n",
       "      <td>-8.8602</td>\n",
       "    </tr>\n",
       "    <tr>\n",
       "      <td>18449</td>\n",
       "      <td>test_18449</td>\n",
       "      <td>14.9670</td>\n",
       "      <td>6.6212</td>\n",
       "      <td>8.8402</td>\n",
       "      <td>7.0893</td>\n",
       "      <td>8.9842</td>\n",
       "      <td>-7.3631</td>\n",
       "      <td>4.4077</td>\n",
       "      <td>17.8975</td>\n",
       "      <td>-3.1912</td>\n",
       "      <td>...</td>\n",
       "      <td>9.7530</td>\n",
       "      <td>4.4191</td>\n",
       "      <td>2.3636</td>\n",
       "      <td>2.0528</td>\n",
       "      <td>18.3464</td>\n",
       "      <td>0.3735</td>\n",
       "      <td>-1.7086</td>\n",
       "      <td>9.2165</td>\n",
       "      <td>8.5629</td>\n",
       "      <td>10.7562</td>\n",
       "    </tr>\n",
       "    <tr>\n",
       "      <td>99938</td>\n",
       "      <td>test_99938</td>\n",
       "      <td>15.0108</td>\n",
       "      <td>-1.3339</td>\n",
       "      <td>12.1775</td>\n",
       "      <td>5.5395</td>\n",
       "      <td>12.4572</td>\n",
       "      <td>-10.3423</td>\n",
       "      <td>6.1664</td>\n",
       "      <td>19.6881</td>\n",
       "      <td>-0.3759</td>\n",
       "      <td>...</td>\n",
       "      <td>5.1795</td>\n",
       "      <td>4.7975</td>\n",
       "      <td>1.4963</td>\n",
       "      <td>-2.0101</td>\n",
       "      <td>18.0749</td>\n",
       "      <td>0.6951</td>\n",
       "      <td>-6.3518</td>\n",
       "      <td>9.0667</td>\n",
       "      <td>19.1569</td>\n",
       "      <td>-15.4426</td>\n",
       "    </tr>\n",
       "    <tr>\n",
       "      <td>186735</td>\n",
       "      <td>test_186735</td>\n",
       "      <td>11.3315</td>\n",
       "      <td>-2.3283</td>\n",
       "      <td>7.5639</td>\n",
       "      <td>8.3216</td>\n",
       "      <td>6.9668</td>\n",
       "      <td>-14.7832</td>\n",
       "      <td>5.8356</td>\n",
       "      <td>12.9202</td>\n",
       "      <td>5.5704</td>\n",
       "      <td>...</td>\n",
       "      <td>-4.5145</td>\n",
       "      <td>8.3049</td>\n",
       "      <td>1.1551</td>\n",
       "      <td>0.5921</td>\n",
       "      <td>17.6986</td>\n",
       "      <td>-1.0254</td>\n",
       "      <td>4.6898</td>\n",
       "      <td>8.5707</td>\n",
       "      <td>17.2884</td>\n",
       "      <td>-4.7038</td>\n",
       "    </tr>\n",
       "    <tr>\n",
       "      <td>44441</td>\n",
       "      <td>test_44441</td>\n",
       "      <td>14.9050</td>\n",
       "      <td>3.2079</td>\n",
       "      <td>11.5501</td>\n",
       "      <td>5.8747</td>\n",
       "      <td>11.9160</td>\n",
       "      <td>2.8274</td>\n",
       "      <td>5.7472</td>\n",
       "      <td>20.6436</td>\n",
       "      <td>0.9248</td>\n",
       "      <td>...</td>\n",
       "      <td>7.9948</td>\n",
       "      <td>5.8950</td>\n",
       "      <td>2.3930</td>\n",
       "      <td>8.2370</td>\n",
       "      <td>17.9256</td>\n",
       "      <td>-0.9229</td>\n",
       "      <td>4.5291</td>\n",
       "      <td>8.5980</td>\n",
       "      <td>16.1538</td>\n",
       "      <td>-2.1868</td>\n",
       "    </tr>\n",
       "  </tbody>\n",
       "</table>\n",
       "<p>5 rows × 201 columns</p>\n",
       "</div>"
      ],
      "text/plain": [
       "            ID_code    var_0   var_1    var_2   var_3    var_4    var_5  \\\n",
       "181930  test_181930   6.4878 -9.8429  12.0218  7.8614   8.3899 -14.1334   \n",
       "18449    test_18449  14.9670  6.6212   8.8402  7.0893   8.9842  -7.3631   \n",
       "99938    test_99938  15.0108 -1.3339  12.1775  5.5395  12.4572 -10.3423   \n",
       "186735  test_186735  11.3315 -2.3283   7.5639  8.3216   6.9668 -14.7832   \n",
       "44441    test_44441  14.9050  3.2079  11.5501  5.8747  11.9160   2.8274   \n",
       "\n",
       "         var_6    var_7   var_8  ...  var_190  var_191  var_192  var_193  \\\n",
       "181930  4.3718  21.9922  4.6989  ...  -2.5124   8.8216   2.9751   9.7237   \n",
       "18449   4.4077  17.8975 -3.1912  ...   9.7530   4.4191   2.3636   2.0528   \n",
       "99938   6.1664  19.6881 -0.3759  ...   5.1795   4.7975   1.4963  -2.0101   \n",
       "186735  5.8356  12.9202  5.5704  ...  -4.5145   8.3049   1.1551   0.5921   \n",
       "44441   5.7472  20.6436  0.9248  ...   7.9948   5.8950   2.3930   8.2370   \n",
       "\n",
       "        var_194  var_195  var_196  var_197  var_198  var_199  \n",
       "181930  14.0464  -0.2979  -5.5474   9.0002  10.4226  -8.8602  \n",
       "18449   18.3464   0.3735  -1.7086   9.2165   8.5629  10.7562  \n",
       "99938   18.0749   0.6951  -6.3518   9.0667  19.1569 -15.4426  \n",
       "186735  17.6986  -1.0254   4.6898   8.5707  17.2884  -4.7038  \n",
       "44441   17.9256  -0.9229   4.5291   8.5980  16.1538  -2.1868  \n",
       "\n",
       "[5 rows x 201 columns]"
      ]
     },
     "execution_count": 4,
     "metadata": {},
     "output_type": "execute_result"
    }
   ],
   "source": [
    "# view random 5 records from test dataset\n",
    "print(santander_test.info())\n",
    "santander_test.sample(5)"
   ]
  },
  {
   "cell_type": "code",
   "execution_count": 5,
   "metadata": {
    "colab": {
     "base_uri": "https://localhost:8080/",
     "height": 0
    },
    "colab_type": "code",
    "id": "5OBoAfMMzBmz",
    "outputId": "8222fe52-d0a0-4198-f555-fd2afccd5267"
   },
   "outputs": [
    {
     "data": {
      "text/plain": [
       "Index(['ID_code', 'target', 'var_0', 'var_1', 'var_2', 'var_3', 'var_4',\n",
       "       'var_5', 'var_6', 'var_7',\n",
       "       ...\n",
       "       'var_190', 'var_191', 'var_192', 'var_193', 'var_194', 'var_195',\n",
       "       'var_196', 'var_197', 'var_198', 'var_199'],\n",
       "      dtype='object', length=202)"
      ]
     },
     "execution_count": 5,
     "metadata": {},
     "output_type": "execute_result"
    }
   ],
   "source": [
    "# view column names\n",
    "santander_train.columns"
   ]
  },
  {
   "cell_type": "code",
   "execution_count": 6,
   "metadata": {
    "colab": {},
    "colab_type": "code",
    "id": "zKQlGi_iflXO"
   },
   "outputs": [],
   "source": [
    "# drop ID_code variable as it can't help in prediction\n",
    "santander_train = santander_train.drop(columns = ['ID_code'])"
   ]
  },
  {
   "cell_type": "code",
   "execution_count": 7,
   "metadata": {
    "colab": {},
    "colab_type": "code",
    "id": "3ux8_K79hrgE"
   },
   "outputs": [],
   "source": [
    "# re-order columns - set target to last column\n",
    "cols = santander_train.columns.tolist()\n",
    "cols = cols[1:201] + cols[0:1]\n",
    "santander_train = santander_train[cols]\n"
   ]
  },
  {
   "cell_type": "code",
   "execution_count": 8,
   "metadata": {
    "colab": {
     "base_uri": "https://localhost:8080/",
     "height": 0
    },
    "colab_type": "code",
    "id": "saS5EW-oqDpL",
    "outputId": "a913b394-4248-4026-b6d2-cb69f1a274fb"
   },
   "outputs": [
    {
     "data": {
      "text/html": [
       "<div>\n",
       "<style scoped>\n",
       "    .dataframe tbody tr th:only-of-type {\n",
       "        vertical-align: middle;\n",
       "    }\n",
       "\n",
       "    .dataframe tbody tr th {\n",
       "        vertical-align: top;\n",
       "    }\n",
       "\n",
       "    .dataframe thead th {\n",
       "        text-align: right;\n",
       "    }\n",
       "</style>\n",
       "<table border=\"1\" class=\"dataframe\">\n",
       "  <thead>\n",
       "    <tr style=\"text-align: right;\">\n",
       "      <th></th>\n",
       "      <th>var_0</th>\n",
       "      <th>var_1</th>\n",
       "      <th>var_2</th>\n",
       "      <th>var_3</th>\n",
       "      <th>var_4</th>\n",
       "      <th>var_5</th>\n",
       "      <th>var_6</th>\n",
       "      <th>var_7</th>\n",
       "      <th>var_8</th>\n",
       "      <th>var_9</th>\n",
       "      <th>...</th>\n",
       "      <th>var_191</th>\n",
       "      <th>var_192</th>\n",
       "      <th>var_193</th>\n",
       "      <th>var_194</th>\n",
       "      <th>var_195</th>\n",
       "      <th>var_196</th>\n",
       "      <th>var_197</th>\n",
       "      <th>var_198</th>\n",
       "      <th>var_199</th>\n",
       "      <th>target</th>\n",
       "    </tr>\n",
       "  </thead>\n",
       "  <tbody>\n",
       "    <tr>\n",
       "      <td>count</td>\n",
       "      <td>200000.000000</td>\n",
       "      <td>200000.000000</td>\n",
       "      <td>200000.000000</td>\n",
       "      <td>200000.000000</td>\n",
       "      <td>200000.000000</td>\n",
       "      <td>200000.000000</td>\n",
       "      <td>200000.000000</td>\n",
       "      <td>200000.000000</td>\n",
       "      <td>200000.000000</td>\n",
       "      <td>200000.000000</td>\n",
       "      <td>...</td>\n",
       "      <td>200000.000000</td>\n",
       "      <td>200000.000000</td>\n",
       "      <td>200000.000000</td>\n",
       "      <td>200000.000000</td>\n",
       "      <td>200000.000000</td>\n",
       "      <td>200000.000000</td>\n",
       "      <td>200000.000000</td>\n",
       "      <td>200000.000000</td>\n",
       "      <td>200000.000000</td>\n",
       "      <td>200000.000000</td>\n",
       "    </tr>\n",
       "    <tr>\n",
       "      <td>mean</td>\n",
       "      <td>10.679914</td>\n",
       "      <td>-1.627622</td>\n",
       "      <td>10.715192</td>\n",
       "      <td>6.796529</td>\n",
       "      <td>11.078333</td>\n",
       "      <td>-5.065317</td>\n",
       "      <td>5.408949</td>\n",
       "      <td>16.545850</td>\n",
       "      <td>0.284162</td>\n",
       "      <td>7.567236</td>\n",
       "      <td>...</td>\n",
       "      <td>7.438408</td>\n",
       "      <td>1.927839</td>\n",
       "      <td>3.331774</td>\n",
       "      <td>17.993784</td>\n",
       "      <td>-0.142088</td>\n",
       "      <td>2.303335</td>\n",
       "      <td>8.908158</td>\n",
       "      <td>15.870720</td>\n",
       "      <td>-3.326537</td>\n",
       "      <td>0.100490</td>\n",
       "    </tr>\n",
       "    <tr>\n",
       "      <td>std</td>\n",
       "      <td>3.040051</td>\n",
       "      <td>4.050044</td>\n",
       "      <td>2.640894</td>\n",
       "      <td>2.043319</td>\n",
       "      <td>1.623150</td>\n",
       "      <td>7.863267</td>\n",
       "      <td>0.866607</td>\n",
       "      <td>3.418076</td>\n",
       "      <td>3.332634</td>\n",
       "      <td>1.235070</td>\n",
       "      <td>...</td>\n",
       "      <td>3.023272</td>\n",
       "      <td>1.478423</td>\n",
       "      <td>3.992030</td>\n",
       "      <td>3.135162</td>\n",
       "      <td>1.429372</td>\n",
       "      <td>5.454369</td>\n",
       "      <td>0.921625</td>\n",
       "      <td>3.010945</td>\n",
       "      <td>10.438015</td>\n",
       "      <td>0.300653</td>\n",
       "    </tr>\n",
       "    <tr>\n",
       "      <td>min</td>\n",
       "      <td>0.408400</td>\n",
       "      <td>-15.043400</td>\n",
       "      <td>2.117100</td>\n",
       "      <td>-0.040200</td>\n",
       "      <td>5.074800</td>\n",
       "      <td>-32.562600</td>\n",
       "      <td>2.347300</td>\n",
       "      <td>5.349700</td>\n",
       "      <td>-10.505500</td>\n",
       "      <td>3.970500</td>\n",
       "      <td>...</td>\n",
       "      <td>-2.691700</td>\n",
       "      <td>-3.814500</td>\n",
       "      <td>-11.783400</td>\n",
       "      <td>8.694400</td>\n",
       "      <td>-5.261000</td>\n",
       "      <td>-14.209600</td>\n",
       "      <td>5.960600</td>\n",
       "      <td>6.299300</td>\n",
       "      <td>-38.852800</td>\n",
       "      <td>0.000000</td>\n",
       "    </tr>\n",
       "    <tr>\n",
       "      <td>25%</td>\n",
       "      <td>8.453850</td>\n",
       "      <td>-4.740025</td>\n",
       "      <td>8.722475</td>\n",
       "      <td>5.254075</td>\n",
       "      <td>9.883175</td>\n",
       "      <td>-11.200350</td>\n",
       "      <td>4.767700</td>\n",
       "      <td>13.943800</td>\n",
       "      <td>-2.317800</td>\n",
       "      <td>6.618800</td>\n",
       "      <td>...</td>\n",
       "      <td>5.157400</td>\n",
       "      <td>0.889775</td>\n",
       "      <td>0.584600</td>\n",
       "      <td>15.629800</td>\n",
       "      <td>-1.170700</td>\n",
       "      <td>-1.946925</td>\n",
       "      <td>8.252800</td>\n",
       "      <td>13.829700</td>\n",
       "      <td>-11.208475</td>\n",
       "      <td>0.000000</td>\n",
       "    </tr>\n",
       "    <tr>\n",
       "      <td>50%</td>\n",
       "      <td>10.524750</td>\n",
       "      <td>-1.608050</td>\n",
       "      <td>10.580000</td>\n",
       "      <td>6.825000</td>\n",
       "      <td>11.108250</td>\n",
       "      <td>-4.833150</td>\n",
       "      <td>5.385100</td>\n",
       "      <td>16.456800</td>\n",
       "      <td>0.393700</td>\n",
       "      <td>7.629600</td>\n",
       "      <td>...</td>\n",
       "      <td>7.347750</td>\n",
       "      <td>1.901300</td>\n",
       "      <td>3.396350</td>\n",
       "      <td>17.957950</td>\n",
       "      <td>-0.172700</td>\n",
       "      <td>2.408900</td>\n",
       "      <td>8.888200</td>\n",
       "      <td>15.934050</td>\n",
       "      <td>-2.819550</td>\n",
       "      <td>0.000000</td>\n",
       "    </tr>\n",
       "    <tr>\n",
       "      <td>75%</td>\n",
       "      <td>12.758200</td>\n",
       "      <td>1.358625</td>\n",
       "      <td>12.516700</td>\n",
       "      <td>8.324100</td>\n",
       "      <td>12.261125</td>\n",
       "      <td>0.924800</td>\n",
       "      <td>6.003000</td>\n",
       "      <td>19.102900</td>\n",
       "      <td>2.937900</td>\n",
       "      <td>8.584425</td>\n",
       "      <td>...</td>\n",
       "      <td>9.512525</td>\n",
       "      <td>2.949500</td>\n",
       "      <td>6.205800</td>\n",
       "      <td>20.396525</td>\n",
       "      <td>0.829600</td>\n",
       "      <td>6.556725</td>\n",
       "      <td>9.593300</td>\n",
       "      <td>18.064725</td>\n",
       "      <td>4.836800</td>\n",
       "      <td>0.000000</td>\n",
       "    </tr>\n",
       "    <tr>\n",
       "      <td>max</td>\n",
       "      <td>20.315000</td>\n",
       "      <td>10.376800</td>\n",
       "      <td>19.353000</td>\n",
       "      <td>13.188300</td>\n",
       "      <td>16.671400</td>\n",
       "      <td>17.251600</td>\n",
       "      <td>8.447700</td>\n",
       "      <td>27.691800</td>\n",
       "      <td>10.151300</td>\n",
       "      <td>11.150600</td>\n",
       "      <td>...</td>\n",
       "      <td>16.716500</td>\n",
       "      <td>8.402400</td>\n",
       "      <td>18.281800</td>\n",
       "      <td>27.928800</td>\n",
       "      <td>4.272900</td>\n",
       "      <td>18.321500</td>\n",
       "      <td>12.000400</td>\n",
       "      <td>26.079100</td>\n",
       "      <td>28.500700</td>\n",
       "      <td>1.000000</td>\n",
       "    </tr>\n",
       "  </tbody>\n",
       "</table>\n",
       "<p>8 rows × 201 columns</p>\n",
       "</div>"
      ],
      "text/plain": [
       "               var_0          var_1          var_2          var_3  \\\n",
       "count  200000.000000  200000.000000  200000.000000  200000.000000   \n",
       "mean       10.679914      -1.627622      10.715192       6.796529   \n",
       "std         3.040051       4.050044       2.640894       2.043319   \n",
       "min         0.408400     -15.043400       2.117100      -0.040200   \n",
       "25%         8.453850      -4.740025       8.722475       5.254075   \n",
       "50%        10.524750      -1.608050      10.580000       6.825000   \n",
       "75%        12.758200       1.358625      12.516700       8.324100   \n",
       "max        20.315000      10.376800      19.353000      13.188300   \n",
       "\n",
       "               var_4          var_5          var_6          var_7  \\\n",
       "count  200000.000000  200000.000000  200000.000000  200000.000000   \n",
       "mean       11.078333      -5.065317       5.408949      16.545850   \n",
       "std         1.623150       7.863267       0.866607       3.418076   \n",
       "min         5.074800     -32.562600       2.347300       5.349700   \n",
       "25%         9.883175     -11.200350       4.767700      13.943800   \n",
       "50%        11.108250      -4.833150       5.385100      16.456800   \n",
       "75%        12.261125       0.924800       6.003000      19.102900   \n",
       "max        16.671400      17.251600       8.447700      27.691800   \n",
       "\n",
       "               var_8          var_9  ...        var_191        var_192  \\\n",
       "count  200000.000000  200000.000000  ...  200000.000000  200000.000000   \n",
       "mean        0.284162       7.567236  ...       7.438408       1.927839   \n",
       "std         3.332634       1.235070  ...       3.023272       1.478423   \n",
       "min       -10.505500       3.970500  ...      -2.691700      -3.814500   \n",
       "25%        -2.317800       6.618800  ...       5.157400       0.889775   \n",
       "50%         0.393700       7.629600  ...       7.347750       1.901300   \n",
       "75%         2.937900       8.584425  ...       9.512525       2.949500   \n",
       "max        10.151300      11.150600  ...      16.716500       8.402400   \n",
       "\n",
       "             var_193        var_194        var_195        var_196  \\\n",
       "count  200000.000000  200000.000000  200000.000000  200000.000000   \n",
       "mean        3.331774      17.993784      -0.142088       2.303335   \n",
       "std         3.992030       3.135162       1.429372       5.454369   \n",
       "min       -11.783400       8.694400      -5.261000     -14.209600   \n",
       "25%         0.584600      15.629800      -1.170700      -1.946925   \n",
       "50%         3.396350      17.957950      -0.172700       2.408900   \n",
       "75%         6.205800      20.396525       0.829600       6.556725   \n",
       "max        18.281800      27.928800       4.272900      18.321500   \n",
       "\n",
       "             var_197        var_198        var_199         target  \n",
       "count  200000.000000  200000.000000  200000.000000  200000.000000  \n",
       "mean        8.908158      15.870720      -3.326537       0.100490  \n",
       "std         0.921625       3.010945      10.438015       0.300653  \n",
       "min         5.960600       6.299300     -38.852800       0.000000  \n",
       "25%         8.252800      13.829700     -11.208475       0.000000  \n",
       "50%         8.888200      15.934050      -2.819550       0.000000  \n",
       "75%         9.593300      18.064725       4.836800       0.000000  \n",
       "max        12.000400      26.079100      28.500700       1.000000  \n",
       "\n",
       "[8 rows x 201 columns]"
      ]
     },
     "execution_count": 8,
     "metadata": {},
     "output_type": "execute_result"
    }
   ],
   "source": [
    "# dataset info\n",
    "santander_train.describe()"
   ]
  },
  {
   "cell_type": "code",
   "execution_count": 9,
   "metadata": {
    "colab": {
     "base_uri": "https://localhost:8080/",
     "height": 0
    },
    "colab_type": "code",
    "id": "IeACJXLMUQCU",
    "outputId": "3ab1fc6e-05aa-4ec1-b113-3e39ff24e3fc"
   },
   "outputs": [
    {
     "data": {
      "text/plain": [
       "<matplotlib.axes._subplots.AxesSubplot at 0xf801179288>"
      ]
     },
     "execution_count": 9,
     "metadata": {},
     "output_type": "execute_result"
    },
    {
     "data": {
      "image/png": "[encoded data removed]",
      "text/plain": [
       "<Figure size 1440x864 with 20 Axes>"
      ]
     },
     "metadata": {
      "needs_background": "light"
     },
     "output_type": "display_data"
    }
   ],
   "source": [
    "# histogram for few variables \n",
    "f, axes = plt.subplots(4, 5, figsize=(20, 12), sharex=True)\n",
    "# first row\n",
    "sns.distplot( santander_train['var_0'] , color=\"skyblue\", ax=axes[0, 0])\n",
    "sns.distplot( santander_train[\"var_1\"] , color=\"olive\", ax=axes[0, 1])\n",
    "sns.distplot( santander_train[\"var_2\"] , color=\"gold\", ax=axes[0, 2])\n",
    "sns.distplot( santander_train[\"var_3\"] , color=\"teal\", ax=axes[0, 3])\n",
    "sns.distplot( santander_train[\"var_4\"] , color=\"lightgreen\", ax=axes[0, 4])\n",
    "# second row\n",
    "sns.distplot( santander_train['var_5'] , color=\"skyblue\", ax=axes[1, 0])\n",
    "sns.distplot( santander_train[\"var_6\"] , color=\"olive\", ax=axes[1, 1])\n",
    "sns.distplot( santander_train[\"var_7\"] , color=\"gold\", ax=axes[1, 2])\n",
    "sns.distplot( santander_train[\"var_8\"] , color=\"teal\", ax=axes[1, 3])\n",
    "sns.distplot( santander_train[\"var_9\"] , color=\"lightgreen\", ax=axes[1, 4])\n",
    "# third row\n",
    "sns.distplot( santander_train['var_10'] , color=\"skyblue\", ax=axes[2, 0])\n",
    "sns.distplot( santander_train[\"var_11\"] , color=\"olive\", ax=axes[2, 1])\n",
    "sns.distplot( santander_train[\"var_12\"] , color=\"gold\", ax=axes[2, 2])\n",
    "sns.distplot( santander_train[\"var_13\"] , color=\"teal\", ax=axes[2, 3])\n",
    "sns.distplot( santander_train[\"var_14\"] , color=\"lightgreen\", ax=axes[2, 4])\n",
    "# fourth row\n",
    "sns.distplot( santander_train['var_15'] , color=\"skyblue\", ax=axes[3, 0])\n",
    "sns.distplot( santander_train[\"var_16\"] , color=\"olive\", ax=axes[3, 1])\n",
    "sns.distplot( santander_train[\"var_17\"] , color=\"gold\", ax=axes[3, 2])\n",
    "sns.distplot( santander_train[\"var_18\"] , color=\"teal\", ax=axes[3, 3])\n",
    "sns.distplot( santander_train[\"var_19\"] , color=\"lightgreen\", ax=axes[3, 4])\n"
   ]
  },
  {
   "cell_type": "code",
   "execution_count": 10,
   "metadata": {
    "colab": {},
    "colab_type": "code",
    "id": "RxmHJdgLvgxP"
   },
   "outputs": [],
   "source": [
    "# take backup\n",
    "santander_train_backup = santander_train\n",
    "# santander_train = santander_train_backup"
   ]
  },
  {
   "cell_type": "markdown",
   "metadata": {
    "colab_type": "text",
    "id": "ddE5i8iz_gGL"
   },
   "source": [
    "# Missing value analysis\n",
    "\n",
    "---\n",
    "\n"
   ]
  },
  {
   "cell_type": "code",
   "execution_count": 11,
   "metadata": {
    "colab": {
     "base_uri": "https://localhost:8080/",
     "height": 359
    },
    "colab_type": "code",
    "id": "wC9g1L0Dfr9m",
    "outputId": "6a734cfb-d5be-4139-d5a2-6e973cbec49b"
   },
   "outputs": [
    {
     "data": {
      "text/html": [
       "<div>\n",
       "<style scoped>\n",
       "    .dataframe tbody tr th:only-of-type {\n",
       "        vertical-align: middle;\n",
       "    }\n",
       "\n",
       "    .dataframe tbody tr th {\n",
       "        vertical-align: top;\n",
       "    }\n",
       "\n",
       "    .dataframe thead th {\n",
       "        text-align: right;\n",
       "    }\n",
       "</style>\n",
       "<table border=\"1\" class=\"dataframe\">\n",
       "  <thead>\n",
       "    <tr style=\"text-align: right;\">\n",
       "      <th></th>\n",
       "      <th>Total</th>\n",
       "      <th>Percent</th>\n",
       "    </tr>\n",
       "  </thead>\n",
       "  <tbody>\n",
       "    <tr>\n",
       "      <td>target</td>\n",
       "      <td>0</td>\n",
       "      <td>0.0</td>\n",
       "    </tr>\n",
       "    <tr>\n",
       "      <td>var_62</td>\n",
       "      <td>0</td>\n",
       "      <td>0.0</td>\n",
       "    </tr>\n",
       "    <tr>\n",
       "      <td>var_72</td>\n",
       "      <td>0</td>\n",
       "      <td>0.0</td>\n",
       "    </tr>\n",
       "    <tr>\n",
       "      <td>var_71</td>\n",
       "      <td>0</td>\n",
       "      <td>0.0</td>\n",
       "    </tr>\n",
       "    <tr>\n",
       "      <td>var_70</td>\n",
       "      <td>0</td>\n",
       "      <td>0.0</td>\n",
       "    </tr>\n",
       "    <tr>\n",
       "      <td>var_69</td>\n",
       "      <td>0</td>\n",
       "      <td>0.0</td>\n",
       "    </tr>\n",
       "    <tr>\n",
       "      <td>var_68</td>\n",
       "      <td>0</td>\n",
       "      <td>0.0</td>\n",
       "    </tr>\n",
       "    <tr>\n",
       "      <td>var_67</td>\n",
       "      <td>0</td>\n",
       "      <td>0.0</td>\n",
       "    </tr>\n",
       "    <tr>\n",
       "      <td>var_66</td>\n",
       "      <td>0</td>\n",
       "      <td>0.0</td>\n",
       "    </tr>\n",
       "    <tr>\n",
       "      <td>var_65</td>\n",
       "      <td>0</td>\n",
       "      <td>0.0</td>\n",
       "    </tr>\n",
       "  </tbody>\n",
       "</table>\n",
       "</div>"
      ],
      "text/plain": [
       "        Total  Percent\n",
       "target      0      0.0\n",
       "var_62      0      0.0\n",
       "var_72      0      0.0\n",
       "var_71      0      0.0\n",
       "var_70      0      0.0\n",
       "var_69      0      0.0\n",
       "var_68      0      0.0\n",
       "var_67      0      0.0\n",
       "var_66      0      0.0\n",
       "var_65      0      0.0"
      ]
     },
     "execution_count": 11,
     "metadata": {},
     "output_type": "execute_result"
    }
   ],
   "source": [
    "# view missing values count for each variable\n",
    "total = santander_train.isnull().sum().sort_values(ascending=False)\n",
    "percent = (santander_train.isnull().sum()/santander_train.isnull().count()).sort_values(ascending=False)\n",
    "missing_data = pd.concat([total, percent], axis=1, keys=['Total', 'Percent'])\n",
    "missing_data.head(10)"
   ]
  },
  {
   "cell_type": "markdown",
   "metadata": {
    "colab_type": "text",
    "id": "6vV2oaMrDryT"
   },
   "source": [
    "**In our dataset we don't have any missing values so no need to do further process for missing value analysis**\n",
    "\n",
    "---\n",
    "\n"
   ]
  },
  {
   "cell_type": "markdown",
   "metadata": {
    "colab_type": "text",
    "id": "hzjucMs7t0zz"
   },
   "source": [
    "# Outlier Analysis\n",
    "\n",
    "---\n",
    "\n"
   ]
  },
  {
   "cell_type": "code",
   "execution_count": 12,
   "metadata": {
    "colab": {
     "base_uri": "https://localhost:8080/",
     "height": 755
    },
    "colab_type": "code",
    "id": "3Lp3Mz8vUcFM",
    "outputId": "1f70d34a-6d54-405d-beaf-3699f6c2234a"
   },
   "outputs": [
    {
     "data": {
      "text/plain": [
       "<matplotlib.axes._subplots.AxesSubplot at 0xf8022fa508>"
      ]
     },
     "execution_count": 12,
     "metadata": {},
     "output_type": "execute_result"
    },
    {
     "data": {
      "image/png": "[encoded data removed]",
      "text/plain": [
       "<Figure size 1152x864 with 1 Axes>"
      ]
     },
     "metadata": {
      "needs_background": "light"
     },
     "output_type": "display_data"
    }
   ],
   "source": [
    "# plot outliers for few variables\n",
    "plt.figure(figsize=(16, 12))\n",
    "santander_train.boxplot(column=['var_0', 'var_1', 'var_2','var_3','var_4', 'var_5', 'var_6','var_7','var_8', 'var_9','var_10'] , fontsize = 15, rot = 45)"
   ]
  },
  {
   "cell_type": "code",
   "execution_count": 13,
   "metadata": {
    "colab": {},
    "colab_type": "code",
    "id": "ix7iV0BrwSP6"
   },
   "outputs": [],
   "source": [
    "# Detect outliers and replace with NA\n",
    "def detect_outlier(df):\n",
    "  for i in range(0, santander_train.shape[1] - 1):\n",
    "    column_name = santander_train.columns[i]\n",
    "    print(column_name)\n",
    "\n",
    "    # find inter-quartile range\n",
    "    q75, q25 = np.percentile(santander_train.iloc[:,i], [75,25])\n",
    "    iqr = q75 - q25\n",
    "\n",
    "    # find lower and upper fence\n",
    "    lower_fence = round(q25 - (1.5*iqr),4)\n",
    "    upper_fence = round(q75 + (1.5*iqr),4)\n",
    "    print('lower_fence :', lower_fence)\n",
    "    print('upper_fence :', upper_fence)\n",
    "\n",
    "    # count outliers\n",
    "    lower_outlier = santander_train.loc[santander_train[column_name] < lower_fence].shape[0]\n",
    "    upper_outlier = santander_train.loc[santander_train[column_name] > upper_fence].shape[0]\n",
    "    print('No of outlier in variable# ' + str(column_name) + \" - \" ,  lower_outlier + upper_outlier)\n",
    "\n",
    "    # replace outlier with NA\n",
    "    santander_train.loc[santander_train[column_name] < lower_fence, : column_name] = np.nan\n",
    "    santander_train.loc[santander_train[column_name] > upper_fence, : column_name] = np.nan\n"
   ]
  },
  {
   "cell_type": "code",
   "execution_count": 14,
   "metadata": {
    "colab": {},
    "colab_type": "code",
    "id": "1LhHjw_9zYPP"
   },
   "outputs": [
    {
     "name": "stdout",
     "output_type": "stream",
     "text": [
      "var_0\n",
      "lower_fence : 1.9973\n",
      "upper_fence : 19.2147\n",
      "No of outlier in variable# var_0 -  104\n",
      "var_1\n",
      "lower_fence : -13.888\n",
      "upper_fence : 10.5066\n",
      "No of outlier in variable# var_1 -  6\n",
      "var_2\n",
      "lower_fence : 3.0311\n",
      "upper_fence : 18.208\n",
      "No of outlier in variable# var_2 -  49\n",
      "var_3\n",
      "lower_fence : 0.649\n",
      "upper_fence : 12.9291\n",
      "No of outlier in variable# var_3 -  22\n",
      "var_4\n",
      "lower_fence : 6.3162\n",
      "upper_fence : 15.8281\n",
      "No of outlier in variable# var_4 -  76\n",
      "var_5\n",
      "lower_fence : -29.3881\n",
      "upper_fence : 19.1125\n",
      "No of outlier in variable# var_5 -  4\n",
      "var_6\n",
      "lower_fence : 2.9148\n",
      "upper_fence : 7.8559\n",
      "No of outlier in variable# var_6 -  113\n",
      "var_7\n",
      "lower_fence : 6.2051\n",
      "upper_fence : 26.8416\n",
      "No of outlier in variable# var_7 -  19\n",
      "var_8\n",
      "lower_fence : -10.2014\n",
      "upper_fence : 10.8214\n",
      "No of outlier in variable# var_8 -  2\n",
      "var_9\n",
      "lower_fence : 3.6704\n",
      "upper_fence : 11.5329\n",
      "No of outlier in variable# var_9 -  0\n",
      "var_10\n",
      "lower_fence : -15.5618\n",
      "upper_fence : 16.3497\n",
      "No of outlier in variable# var_10 -  125\n",
      "var_11\n",
      "lower_fence : -20.0557\n",
      "upper_fence : 13.398\n",
      "No of outlier in variable# var_11 -  309\n",
      "var_12\n",
      "lower_fence : 13.4887\n",
      "upper_fence : 14.5695\n",
      "No of outlier in variable# var_12 -  39\n",
      "var_13\n",
      "lower_fence : -5.7302\n",
      "upper_fence : 23.0777\n",
      "No of outlier in variable# var_13 -  1\n",
      "var_14\n",
      "lower_fence : 0.5491\n",
      "upper_fence : 14.5032\n",
      "No of outlier in variable# var_14 -  2\n",
      "var_15\n",
      "lower_fence : 13.3453\n",
      "upper_fence : 15.792\n",
      "No of outlier in variable# var_15 -  22\n",
      "var_16\n",
      "lower_fence : 2.0468\n",
      "upper_fence : 16.4613\n",
      "No of outlier in variable# var_16 -  68\n",
      "var_17\n",
      "lower_fence : -24.9744\n",
      "upper_fence : 13.6874\n",
      "No of outlier in variable# var_17 -  221\n",
      "var_18\n",
      "lower_fence : -8.5751\n",
      "upper_fence : 38.7664\n",
      "No of outlier in variable# var_18 -  11\n",
      "var_19\n",
      "lower_fence : -11.9588\n",
      "upper_fence : 36.6685\n",
      "No of outlier in variable# var_19 -  1\n",
      "var_20\n",
      "lower_fence : -5.2496\n",
      "upper_fence : 31.7568\n",
      "No of outlier in variable# var_20 -  1\n",
      "var_21\n",
      "lower_fence : -5.7561\n",
      "upper_fence : 40.3961\n",
      "No of outlier in variable# var_21 -  275\n",
      "var_22\n",
      "lower_fence : -3.9838\n",
      "upper_fence : 12.4594\n",
      "No of outlier in variable# var_22 -  289\n",
      "var_23\n",
      "lower_fence : 1.4796\n",
      "upper_fence : 4.5584\n",
      "No of outlier in variable# var_23 -  90\n",
      "var_24\n",
      "lower_fence : -1.1869\n",
      "upper_fence : 22.2795\n",
      "No of outlier in variable# var_24 -  4\n",
      "var_25\n",
      "lower_fence : 12.8455\n",
      "upper_fence : 14.4746\n",
      "No of outlier in variable# var_25 -  241\n",
      "var_26\n",
      "lower_fence : -20.669\n",
      "upper_fence : 12.2571\n",
      "No of outlier in variable# var_26 -  186\n",
      "var_27\n",
      "lower_fence : -5.7932\n",
      "upper_fence : 3.5009\n",
      "No of outlier in variable# var_27 -  3\n",
      "var_28\n",
      "lower_fence : 3.3397\n",
      "upper_fence : 7.7461\n",
      "No of outlier in variable# var_28 -  193\n",
      "var_29\n",
      "lower_fence : -2.2691\n",
      "upper_fence : 12.2398\n",
      "No of outlier in variable# var_29 -  144\n",
      "var_30\n",
      "lower_fence : -32.2503\n",
      "upper_fence : 17.0406\n",
      "No of outlier in variable# var_30 -  12\n",
      "var_31\n",
      "lower_fence : 4.3475\n",
      "upper_fence : 16.4075\n",
      "No of outlier in variable# var_31 -  637\n",
      "var_32\n",
      "lower_fence : -8.4558\n",
      "upper_fence : 7.4241\n",
      "No of outlier in variable# var_32 -  2\n",
      "var_33\n",
      "lower_fence : 1.4951\n",
      "upper_fence : 28.0584\n",
      "No of outlier in variable# var_33 -  4\n",
      "var_34\n",
      "lower_fence : 9.8141\n",
      "upper_fence : 13.0626\n",
      "No of outlier in variable# var_34 -  10\n",
      "var_35\n",
      "lower_fence : -10.9392\n",
      "upper_fence : 18.5438\n",
      "No of outlier in variable# var_35 -  198\n",
      "var_36\n",
      "lower_fence : -6.7084\n",
      "upper_fence : 11.1617\n",
      "No of outlier in variable# var_36 -  178\n",
      "var_37\n",
      "lower_fence : -0.9999\n",
      "upper_fence : 12.6678\n",
      "No of outlier in variable# var_37 -  1\n",
      "var_38\n",
      "lower_fence : -1.4208\n",
      "upper_fence : 22.6107\n",
      "No of outlier in variable# var_38 -  502\n",
      "var_39\n",
      "lower_fence : -10.9555\n",
      "upper_fence : 12.3938\n",
      "No of outlier in variable# var_39 -  158\n",
      "var_40\n",
      "lower_fence : -30.7582\n",
      "upper_fence : 17.0456\n",
      "No of outlier in variable# var_40 -  48\n",
      "var_41\n",
      "lower_fence : -9.3333\n",
      "upper_fence : 27.6076\n",
      "No of outlier in variable# var_41 -  0\n",
      "var_42\n",
      "lower_fence : 9.1477\n",
      "upper_fence : 13.3224\n",
      "No of outlier in variable# var_42 -  32\n",
      "var_43\n",
      "lower_fence : 10.6526\n",
      "upper_fence : 12.4958\n",
      "No of outlier in variable# var_43 -  17\n",
      "var_44\n",
      "lower_fence : -6.3468\n",
      "upper_fence : 24.7478\n",
      "No of outlier in variable# var_44 -  1208\n",
      "var_45\n",
      "lower_fence : -76.5525\n",
      "upper_fence : 50.9724\n",
      "No of outlier in variable# var_45 -  41\n",
      "var_46\n",
      "lower_fence : 3.1444\n",
      "upper_fence : 19.4226\n",
      "No of outlier in variable# var_46 -  268\n",
      "var_47\n",
      "lower_fence : -45.2695\n",
      "upper_fence : 20.3705\n",
      "No of outlier in variable# var_47 -  2\n",
      "var_48\n",
      "lower_fence : -18.663\n",
      "upper_fence : 48.0437\n",
      "No of outlier in variable# var_48 -  95\n",
      "var_49\n",
      "lower_fence : -7.1899\n",
      "upper_fence : 40.3924\n",
      "No of outlier in variable# var_49 -  7\n",
      "var_50\n",
      "lower_fence : 10.8208\n",
      "upper_fence : 14.6828\n",
      "No of outlier in variable# var_50 -  222\n",
      "var_51\n",
      "lower_fence : -10.9094\n",
      "upper_fence : 37.5627\n",
      "No of outlier in variable# var_51 -  42\n",
      "var_52\n",
      "lower_fence : -16.5791\n",
      "upper_fence : 11.4584\n",
      "No of outlier in variable# var_52 -  353\n",
      "var_53\n",
      "lower_fence : 3.7746\n",
      "upper_fence : 8.2039\n",
      "No of outlier in variable# var_53 -  27\n",
      "var_54\n",
      "lower_fence : -23.9718\n",
      "upper_fence : 26.226\n",
      "No of outlier in variable# var_54 -  38\n",
      "var_55\n",
      "lower_fence : -5.2202\n",
      "upper_fence : 30.4707\n",
      "No of outlier in variable# var_55 -  0\n",
      "var_56\n",
      "lower_fence : 6.3101\n",
      "upper_fence : 27.0774\n",
      "No of outlier in variable# var_56 -  252\n",
      "var_57\n",
      "lower_fence : 3.9513\n",
      "upper_fence : 8.5812\n",
      "No of outlier in variable# var_57 -  145\n",
      "var_58\n",
      "lower_fence : -8.8558\n",
      "upper_fence : 15.249\n",
      "No of outlier in variable# var_58 -  401\n",
      "var_59\n",
      "lower_fence : 6.4312\n",
      "upper_fence : 11.4477\n",
      "No of outlier in variable# var_59 -  53\n",
      "var_60\n",
      "lower_fence : -0.3929\n",
      "upper_fence : 24.4221\n",
      "No of outlier in variable# var_60 -  5\n",
      "var_61\n",
      "lower_fence : -47.4161\n",
      "upper_fence : 23.289\n",
      "No of outlier in variable# var_61 -  56\n",
      "var_62\n",
      "lower_fence : -4.7733\n",
      "upper_fence : 6.4291\n",
      "No of outlier in variable# var_62 -  432\n",
      "var_63\n",
      "lower_fence : -8.5022\n",
      "upper_fence : 9.9338\n",
      "No of outlier in variable# var_63 -  187\n",
      "var_64\n",
      "lower_fence : 1.9978\n",
      "upper_fence : 10.7862\n",
      "No of outlier in variable# var_64 -  27\n",
      "var_65\n",
      "lower_fence : -9.8658\n",
      "upper_fence : 11.9022\n",
      "No of outlier in variable# var_65 -  251\n",
      "var_66\n",
      "lower_fence : 2.5552\n",
      "upper_fence : 9.0048\n",
      "No of outlier in variable# var_66 -  152\n",
      "var_67\n",
      "lower_fence : -8.6735\n",
      "upper_fence : 32.4643\n",
      "No of outlier in variable# var_67 -  465\n",
      "var_68\n",
      "lower_fence : 4.9988\n",
      "upper_fence : 5.0393\n",
      "No of outlier in variable# var_68 -  88\n",
      "var_69\n",
      "lower_fence : -15.0932\n",
      "upper_fence : 8.2578\n",
      "No of outlier in variable# var_69 -  15\n",
      "var_70\n",
      "lower_fence : -12.3082\n",
      "upper_fence : 61.1979\n",
      "No of outlier in variable# var_70 -  6\n",
      "var_71\n",
      "lower_fence : -0.1158\n",
      "upper_fence : 1.4526\n",
      "No of outlier in variable# var_71 -  47\n",
      "var_72\n",
      "lower_fence : -10.7588\n",
      "upper_fence : 12.0724\n",
      "No of outlier in variable# var_72 -  128\n",
      "var_73\n",
      "lower_fence : -2.5675\n",
      "upper_fence : 41.8719\n",
      "No of outlier in variable# var_73 -  22\n",
      "var_74\n",
      "lower_fence : -20.4411\n",
      "upper_fence : 59.6578\n",
      "No of outlier in variable# var_74 -  313\n",
      "var_75\n",
      "lower_fence : -0.9459\n",
      "upper_fence : 34.8591\n",
      "No of outlier in variable# var_75 -  11\n",
      "var_76\n",
      "lower_fence : -16.2375\n",
      "upper_fence : 28.6526\n",
      "No of outlier in variable# var_76 -  233\n",
      "var_77\n",
      "lower_fence : 6.9751\n",
      "upper_fence : 31.0807\n",
      "No of outlier in variable# var_77 -  0\n",
      "var_78\n",
      "lower_fence : -0.7576\n",
      "upper_fence : 11.4421\n",
      "No of outlier in variable# var_78 -  2\n",
      "var_79\n",
      "lower_fence : 10.3639\n",
      "upper_fence : 18.3946\n",
      "No of outlier in variable# var_79 -  0\n",
      "var_80\n",
      "lower_fence : -15.4375\n",
      "upper_fence : 27.5811\n",
      "No of outlier in variable# var_80 -  22\n",
      "var_81\n",
      "lower_fence : 8.5257\n",
      "upper_fence : 21.0298\n",
      "No of outlier in variable# var_81 -  169\n",
      "var_82\n",
      "lower_fence : -29.665\n",
      "upper_fence : 22.7617\n",
      "No of outlier in variable# var_82 -  2\n",
      "var_83\n",
      "lower_fence : -23.9408\n",
      "upper_fence : 26.2844\n",
      "No of outlier in variable# var_83 -  6\n",
      "var_84\n",
      "lower_fence : -21.0204\n",
      "upper_fence : 15.7909\n",
      "No of outlier in variable# var_84 -  38\n",
      "var_85\n",
      "lower_fence : 6.3082\n",
      "upper_fence : 30.3893\n",
      "No of outlier in variable# var_85 -  4\n",
      "var_86\n",
      "lower_fence : -15.7187\n",
      "upper_fence : 27.2846\n",
      "No of outlier in variable# var_86 -  152\n",
      "var_87\n",
      "lower_fence : -5.0319\n",
      "upper_fence : 27.7123\n",
      "No of outlier in variable# var_87 -  131\n",
      "var_88\n",
      "lower_fence : 1.4464\n",
      "upper_fence : 16.0394\n",
      "No of outlier in variable# var_88 -  30\n",
      "var_89\n",
      "lower_fence : -6.368\n",
      "upper_fence : 13.6548\n",
      "No of outlier in variable# var_89 -  84\n",
      "var_90\n",
      "lower_fence : -57.0499\n",
      "upper_fence : 23.975\n",
      "No of outlier in variable# var_90 -  9\n"
     ]
    },
    {
     "name": "stdout",
     "output_type": "stream",
     "text": [
      "var_91\n",
      "lower_fence : 6.5227\n",
      "upper_fence : 7.4486\n",
      "No of outlier in variable# var_91 -  22\n",
      "var_92\n",
      "lower_fence : 0.4154\n",
      "upper_fence : 25.0951\n",
      "No of outlier in variable# var_92 -  41\n",
      "var_93\n",
      "lower_fence : 9.0717\n",
      "upper_fence : 12.0689\n",
      "No of outlier in variable# var_93 -  889\n",
      "var_94\n",
      "lower_fence : 2.4363\n",
      "upper_fence : 19.4808\n",
      "No of outlier in variable# var_94 -  0\n",
      "var_95\n",
      "lower_fence : -1.8122\n",
      "upper_fence : 1.6138\n",
      "No of outlier in variable# var_95 -  162\n",
      "var_96\n",
      "lower_fence : -11.7367\n",
      "upper_fence : 40.353\n",
      "No of outlier in variable# var_96 -  6\n",
      "var_97\n",
      "lower_fence : -19.9396\n",
      "upper_fence : 57.0181\n",
      "No of outlier in variable# var_97 -  8\n",
      "var_98\n",
      "lower_fence : -0.2222\n",
      "upper_fence : 3.7507\n",
      "No of outlier in variable# var_98 -  172\n",
      "var_99\n",
      "lower_fence : -6.0582\n",
      "upper_fence : 4.4805\n",
      "No of outlier in variable# var_99 -  85\n",
      "var_100\n",
      "lower_fence : -33.1949\n",
      "upper_fence : 20.1283\n",
      "No of outlier in variable# var_100 -  176\n",
      "var_101\n",
      "lower_fence : -1.7758\n",
      "upper_fence : 28.6659\n",
      "No of outlier in variable# var_101 -  0\n",
      "var_102\n",
      "lower_fence : -2.9034\n",
      "upper_fence : 47.6336\n",
      "No of outlier in variable# var_102 -  92\n",
      "var_103\n",
      "lower_fence : 1.0142\n",
      "upper_fence : 2.1201\n",
      "No of outlier in variable# var_103 -  37\n",
      "var_104\n",
      "lower_fence : 5.8916\n",
      "upper_fence : 17.1084\n",
      "No of outlier in variable# var_104 -  325\n",
      "var_105\n",
      "lower_fence : 1.8657\n",
      "upper_fence : 6.5961\n",
      "No of outlier in variable# var_105 -  572\n",
      "var_106\n",
      "lower_fence : 3.3124\n",
      "upper_fence : 13.8988\n",
      "No of outlier in variable# var_106 -  397\n",
      "var_107\n",
      "lower_fence : -4.6027\n",
      "upper_fence : 40.1194\n",
      "No of outlier in variable# var_107 -  88\n",
      "var_108\n",
      "lower_fence : 13.7046\n",
      "upper_fence : 14.7562\n",
      "No of outlier in variable# var_108 -  0\n",
      "var_109\n",
      "lower_fence : 4.9886\n",
      "upper_fence : 31.9715\n",
      "No of outlier in variable# var_109 -  1\n",
      "var_110\n",
      "lower_fence : -5.1128\n",
      "upper_fence : 16.0346\n",
      "No of outlier in variable# var_110 -  470\n",
      "var_111\n",
      "lower_fence : 3.1548\n",
      "upper_fence : 9.4356\n",
      "No of outlier in variable# var_111 -  80\n",
      "var_112\n",
      "lower_fence : -1.6344\n",
      "upper_fence : 8.3045\n",
      "No of outlier in variable# var_112 -  14\n",
      "var_113\n",
      "lower_fence : -5.3862\n",
      "upper_fence : 21.7856\n",
      "No of outlier in variable# var_113 -  1\n",
      "var_114\n",
      "lower_fence : 0.2541\n",
      "upper_fence : 5.9466\n",
      "No of outlier in variable# var_114 -  49\n",
      "var_115\n",
      "lower_fence : -5.183\n",
      "upper_fence : 9.7042\n",
      "No of outlier in variable# var_115 -  177\n",
      "var_116\n",
      "lower_fence : -2.568\n",
      "upper_fence : 7.4049\n",
      "No of outlier in variable# var_116 -  16\n",
      "var_117\n",
      "lower_fence : -22.7375\n",
      "upper_fence : 54.8918\n",
      "No of outlier in variable# var_117 -  107\n",
      "var_118\n",
      "lower_fence : -30.4273\n",
      "upper_fence : 19.8113\n",
      "No of outlier in variable# var_118 -  228\n",
      "var_119\n",
      "lower_fence : -9.5525\n",
      "upper_fence : 15.489\n",
      "No of outlier in variable# var_119 -  4\n",
      "var_120\n",
      "lower_fence : -10.4172\n",
      "upper_fence : 59.2188\n",
      "No of outlier in variable# var_120 -  254\n",
      "var_121\n",
      "lower_fence : 6.0619\n",
      "upper_fence : 16.554\n",
      "No of outlier in variable# var_121 -  13\n",
      "var_122\n",
      "lower_fence : -14.0506\n",
      "upper_fence : 16.577\n",
      "No of outlier in variable# var_122 -  24\n",
      "var_123\n",
      "lower_fence : -10.5595\n",
      "upper_fence : 25.1113\n",
      "No of outlier in variable# var_123 -  23\n",
      "var_124\n",
      "lower_fence : -3.4043\n",
      "upper_fence : 11.9501\n",
      "No of outlier in variable# var_124 -  498\n",
      "var_125\n",
      "lower_fence : 11.5364\n",
      "upper_fence : 13.4272\n",
      "No of outlier in variable# var_125 -  188\n",
      "var_126\n",
      "lower_fence : 10.8034\n",
      "upper_fence : 15.6166\n",
      "No of outlier in variable# var_126 -  0\n",
      "var_127\n",
      "lower_fence : -8.6953\n",
      "upper_fence : 10.486\n",
      "No of outlier in variable# var_127 -  2\n",
      "var_128\n",
      "lower_fence : -10.9794\n",
      "upper_fence : 8.7503\n",
      "No of outlier in variable# var_128 -  15\n",
      "var_129\n",
      "lower_fence : 3.5656\n",
      "upper_fence : 27.4293\n",
      "No of outlier in variable# var_129 -  96\n",
      "var_130\n",
      "lower_fence : 9.7332\n",
      "upper_fence : 14.7628\n",
      "No of outlier in variable# var_130 -  15\n",
      "var_131\n",
      "lower_fence : -0.832\n",
      "upper_fence : 1.9408\n",
      "No of outlier in variable# var_131 -  6\n",
      "var_132\n",
      "lower_fence : 3.4438\n",
      "upper_fence : 12.192\n",
      "No of outlier in variable# var_132 -  39\n",
      "var_133\n",
      "lower_fence : 5.7525\n",
      "upper_fence : 7.8618\n",
      "No of outlier in variable# var_133 -  588\n",
      "var_134\n",
      "lower_fence : -23.796\n",
      "upper_fence : 13.9915\n",
      "No of outlier in variable# var_134 -  1\n",
      "var_135\n",
      "lower_fence : -26.5817\n",
      "upper_fence : 17.7505\n",
      "No of outlier in variable# var_135 -  27\n",
      "var_136\n",
      "lower_fence : -9.2289\n",
      "upper_fence : 55.2052\n",
      "No of outlier in variable# var_136 -  2\n",
      "var_137\n",
      "lower_fence : -9.9977\n",
      "upper_fence : 45.0802\n",
      "No of outlier in variable# var_137 -  0\n",
      "var_138\n",
      "lower_fence : -11.6164\n",
      "upper_fence : 13.9958\n",
      "No of outlier in variable# var_138 -  323\n",
      "var_139\n",
      "lower_fence : -13.8798\n",
      "upper_fence : 29.5\n",
      "No of outlier in variable# var_139 -  190\n",
      "var_140\n",
      "lower_fence : -10.922\n",
      "upper_fence : 17.8789\n",
      "No of outlier in variable# var_140 -  129\n",
      "var_141\n",
      "lower_fence : -17.673\n",
      "upper_fence : 23.7116\n",
      "No of outlier in variable# var_141 -  1\n",
      "var_142\n",
      "lower_fence : -4.3609\n",
      "upper_fence : 28.3348\n",
      "No of outlier in variable# var_142 -  148\n",
      "var_143\n",
      "lower_fence : 4.0864\n",
      "upper_fence : 20.6858\n",
      "No of outlier in variable# var_143 -  109\n",
      "var_144\n",
      "lower_fence : 5.9477\n",
      "upper_fence : 11.3354\n",
      "No of outlier in variable# var_144 -  58\n",
      "var_145\n",
      "lower_fence : -6.8007\n",
      "upper_fence : 16.3635\n",
      "No of outlier in variable# var_145 -  15\n",
      "var_146\n",
      "lower_fence : 3.4474\n",
      "upper_fence : 17.3127\n",
      "No of outlier in variable# var_146 -  804\n",
      "var_147\n",
      "lower_fence : -24.921\n",
      "upper_fence : 18.1979\n",
      "No of outlier in variable# var_147 -  104\n",
      "var_148\n",
      "lower_fence : 3.4366\n",
      "upper_fence : 4.5486\n",
      "No of outlier in variable# var_148 -  263\n",
      "var_149\n",
      "lower_fence : -23.7903\n",
      "upper_fence : 34.5754\n",
      "No of outlier in variable# var_149 -  383\n",
      "var_150\n",
      "lower_fence : 9.3567\n",
      "upper_fence : 24.278\n",
      "No of outlier in variable# var_150 -  15\n",
      "var_151\n",
      "lower_fence : -1.9249\n",
      "upper_fence : 22.0471\n",
      "No of outlier in variable# var_151 -  1\n",
      "var_152\n",
      "lower_fence : -0.8062\n",
      "upper_fence : 16.1914\n",
      "No of outlier in variable# var_152 -  331\n",
      "var_153\n",
      "lower_fence : 10.6866\n",
      "upper_fence : 22.8102\n",
      "No of outlier in variable# var_153 -  4\n",
      "var_154\n",
      "lower_fence : -7.7998\n",
      "upper_fence : 21.906\n",
      "No of outlier in variable# var_154 -  7\n",
      "var_155\n",
      "lower_fence : -18.5027\n",
      "upper_fence : 14.1284\n",
      "No of outlier in variable# var_155 -  239\n",
      "var_156\n",
      "lower_fence : 10.2938\n",
      "upper_fence : 16.1106\n",
      "No of outlier in variable# var_156 -  28\n",
      "var_157\n",
      "lower_fence : -20.867\n",
      "upper_fence : 10.9385\n",
      "No of outlier in variable# var_157 -  36\n",
      "var_158\n",
      "lower_fence : -5.54\n",
      "upper_fence : 41.5245\n",
      "No of outlier in variable# var_158 -  17\n",
      "var_159\n",
      "lower_fence : -1.533\n",
      "upper_fence : 21.871\n",
      "No of outlier in variable# var_159 -  177\n",
      "var_160\n",
      "lower_fence : -9.694\n",
      "upper_fence : 58.0129\n",
      "No of outlier in variable# var_160 -  3\n",
      "var_161\n",
      "lower_fence : 4.9882\n",
      "upper_fence : 6.2743\n",
      "No of outlier in variable# var_161 -  35\n",
      "var_162\n",
      "lower_fence : 1.2585\n",
      "upper_fence : 9.4388\n",
      "No of outlier in variable# var_162 -  150\n",
      "var_163\n",
      "lower_fence : -4.3619\n",
      "upper_fence : 26.0154\n",
      "No of outlier in variable# var_163 -  146\n",
      "var_164\n",
      "lower_fence : -19.7205\n",
      "upper_fence : 13.95\n",
      "No of outlier in variable# var_164 -  1\n",
      "var_165\n",
      "lower_fence : 4.8253\n",
      "upper_fence : 33.9432\n",
      "No of outlier in variable# var_165 -  70\n",
      "var_166\n",
      "lower_fence : 1.8852\n",
      "upper_fence : 4.0552\n",
      "No of outlier in variable# var_166 -  30\n",
      "var_167\n",
      "lower_fence : -26.0858\n",
      "upper_fence : 17.7615\n",
      "No of outlier in variable# var_167 -  279\n",
      "var_168\n",
      "lower_fence : -3.772\n",
      "upper_fence : 13.4953\n",
      "No of outlier in variable# var_168 -  285\n",
      "var_169\n",
      "lower_fence : 4.5784\n",
      "upper_fence : 6.7016\n",
      "No of outlier in variable# var_169 -  122\n",
      "var_170\n",
      "lower_fence : -12.7908\n",
      "upper_fence : 12.6288\n",
      "No of outlier in variable# var_170 -  413\n",
      "var_171\n",
      "lower_fence : -16.2361\n",
      "upper_fence : 14.4725\n",
      "No of outlier in variable# var_171 -  154\n",
      "var_172\n",
      "lower_fence : -4.5322\n",
      "upper_fence : 44.1716\n",
      "No of outlier in variable# var_172 -  397\n",
      "var_173\n",
      "lower_fence : -17.9537\n",
      "upper_fence : 16.564\n",
      "No of outlier in variable# var_173 -  131\n",
      "var_174\n",
      "lower_fence : -0.8003\n",
      "upper_fence : 41.5062\n",
      "No of outlier in variable# var_174 -  34\n",
      "var_175\n",
      "lower_fence : 2.8108\n",
      "upper_fence : 20.3063\n",
      "No of outlier in variable# var_175 -  2\n",
      "var_176\n",
      "lower_fence : -25.0228\n",
      "upper_fence : 19.3408\n",
      "No of outlier in variable# var_176 -  40\n",
      "var_177\n",
      "lower_fence : 3.6247\n",
      "upper_fence : 20.1152\n",
      "No of outlier in variable# var_177 -  3\n",
      "var_178\n",
      "lower_fence : -26.4974\n",
      "upper_fence : 24.4404\n",
      "No of outlier in variable# var_178 -  43\n",
      "var_179\n",
      "lower_fence : -5.0228\n",
      "upper_fence : 10.0394\n",
      "No of outlier in variable# var_179 -  1509\n"
     ]
    },
    {
     "name": "stdout",
     "output_type": "stream",
     "text": [
      "var_180\n",
      "lower_fence : -18.179\n",
      "upper_fence : 12.5014\n",
      "No of outlier in variable# var_180 -  34\n",
      "var_181\n",
      "lower_fence : 6.1948\n",
      "upper_fence : 13.9012\n",
      "No of outlier in variable# var_181 -  66\n",
      "var_182\n",
      "lower_fence : -26.4098\n",
      "upper_fence : 27.8446\n",
      "No of outlier in variable# var_182 -  5\n",
      "var_183\n",
      "lower_fence : -4.6334\n",
      "upper_fence : 22.1839\n",
      "No of outlier in variable# var_183 -  23\n",
      "var_184\n",
      "lower_fence : -15.026\n",
      "upper_fence : 40.1454\n",
      "No of outlier in variable# var_184 -  43\n",
      "var_185\n",
      "lower_fence : -17.514\n",
      "upper_fence : 9.5634\n",
      "No of outlier in variable# var_185 -  231\n",
      "var_186\n",
      "lower_fence : -0.0027\n",
      "upper_fence : 17.9117\n",
      "No of outlier in variable# var_186 -  446\n",
      "var_187\n",
      "lower_fence : -45.8138\n",
      "upper_fence : 25.1427\n",
      "No of outlier in variable# var_187 -  3\n",
      "var_188\n",
      "lower_fence : 3.736\n",
      "upper_fence : 27.1107\n",
      "No of outlier in variable# var_188 -  23\n",
      "var_189\n",
      "lower_fence : -2.1871\n",
      "upper_fence : 3.6849\n",
      "No of outlier in variable# var_189 -  15\n",
      "var_190\n",
      "lower_fence : -9.7564\n",
      "upper_fence : 16.1037\n",
      "No of outlier in variable# var_190 -  163\n",
      "var_191\n",
      "lower_fence : -1.3753\n",
      "upper_fence : 16.0452\n",
      "No of outlier in variable# var_191 -  80\n",
      "var_192\n",
      "lower_fence : -2.1998\n",
      "upper_fence : 6.0391\n",
      "No of outlier in variable# var_192 -  733\n",
      "var_193\n",
      "lower_fence : -7.8472\n",
      "upper_fence : 14.6376\n",
      "No of outlier in variable# var_193 -  461\n",
      "var_194\n",
      "lower_fence : 8.4797\n",
      "upper_fence : 27.5466\n",
      "No of outlier in variable# var_194 -  2\n",
      "var_195\n",
      "lower_fence : -4.1712\n",
      "upper_fence : 3.8301\n",
      "No of outlier in variable# var_195 -  132\n",
      "var_196\n",
      "lower_fence : -14.7024\n",
      "upper_fence : 19.3122\n",
      "No of outlier in variable# var_196 -  0\n",
      "var_197\n",
      "lower_fence : 6.2421\n",
      "upper_fence : 11.604\n",
      "No of outlier in variable# var_197 -  51\n",
      "var_198\n",
      "lower_fence : 7.4772\n",
      "upper_fence : 24.4173\n",
      "No of outlier in variable# var_198 -  94\n",
      "var_199\n",
      "lower_fence : -35.2764\n",
      "upper_fence : 28.9047\n",
      "No of outlier in variable# var_199 -  20\n"
     ]
    }
   ],
   "source": [
    "# call detect outlier function\n",
    "detect_outlier(santander_train)"
   ]
  },
  {
   "cell_type": "code",
   "execution_count": 15,
   "metadata": {
    "colab": {
     "base_uri": "https://localhost:8080/",
     "height": 628
    },
    "colab_type": "code",
    "id": "FTKLLDtppNRA",
    "outputId": "fd59b27e-9177-4a20-dd5c-918d92441653"
   },
   "outputs": [
    {
     "data": {
      "text/html": [
       "<div>\n",
       "<style scoped>\n",
       "    .dataframe tbody tr th:only-of-type {\n",
       "        vertical-align: middle;\n",
       "    }\n",
       "\n",
       "    .dataframe tbody tr th {\n",
       "        vertical-align: top;\n",
       "    }\n",
       "\n",
       "    .dataframe thead th {\n",
       "        text-align: right;\n",
       "    }\n",
       "</style>\n",
       "<table border=\"1\" class=\"dataframe\">\n",
       "  <thead>\n",
       "    <tr style=\"text-align: right;\">\n",
       "      <th></th>\n",
       "      <th>Total</th>\n",
       "      <th>Percent</th>\n",
       "    </tr>\n",
       "  </thead>\n",
       "  <tbody>\n",
       "    <tr>\n",
       "      <td>var_0</td>\n",
       "      <td>24885</td>\n",
       "      <td>0.124425</td>\n",
       "    </tr>\n",
       "    <tr>\n",
       "      <td>var_1</td>\n",
       "      <td>24793</td>\n",
       "      <td>0.123965</td>\n",
       "    </tr>\n",
       "    <tr>\n",
       "      <td>var_2</td>\n",
       "      <td>24787</td>\n",
       "      <td>0.123935</td>\n",
       "    </tr>\n",
       "    <tr>\n",
       "      <td>var_3</td>\n",
       "      <td>24750</td>\n",
       "      <td>0.123750</td>\n",
       "    </tr>\n",
       "    <tr>\n",
       "      <td>var_4</td>\n",
       "      <td>24732</td>\n",
       "      <td>0.123660</td>\n",
       "    </tr>\n",
       "  </tbody>\n",
       "</table>\n",
       "</div>"
      ],
      "text/plain": [
       "       Total   Percent\n",
       "var_0  24885  0.124425\n",
       "var_1  24793  0.123965\n",
       "var_2  24787  0.123935\n",
       "var_3  24750  0.123750\n",
       "var_4  24732  0.123660"
      ]
     },
     "execution_count": 15,
     "metadata": {},
     "output_type": "execute_result"
    },
    {
     "data": {
      "image/png": "[encoded data removed]",
      "text/plain": [
       "<Figure size 1800x432 with 1 Axes>"
      ]
     },
     "metadata": {
      "needs_background": "light"
     },
     "output_type": "display_data"
    }
   ],
   "source": [
    "# Now, we have missing values\n",
    "# view missing values count against variable\n",
    "total = santander_train.isnull().sum().sort_values(ascending=False)\n",
    "percent = (santander_train.isnull().sum()/santander_train.isnull().count()).sort_values(ascending=False)\n",
    "missing_data = pd.concat([total, percent], axis=1, keys=['Total', 'Percent'])\n",
    "\n",
    "# takes only percent > 0 records\n",
    "missing_data = missing_data[missing_data['Percent'] > 0]\n",
    "\n",
    "# bar plot of missing value data\n",
    "f, ax = plt.subplots(figsize=(25, 6))\n",
    "plt.xticks(rotation='90')\n",
    "sns.barplot(x=missing_data.index, y = missing_data['Percent'])\n",
    "plt.xlabel('Features', fontsize=15)\n",
    "plt.ylabel('Percent of missing values', fontsize=15)\n",
    "plt.title('Percent missing data by feature', fontsize=15)\n",
    "missing_data.head()"
   ]
  },
  {
   "cell_type": "code",
   "execution_count": 16,
   "metadata": {
    "colab": {},
    "colab_type": "code",
    "id": "SsWY4--_BZeP"
   },
   "outputs": [],
   "source": [
    "# impute with mean method\n",
    "santander_train.fillna(santander_train.mean(), inplace=True)"
   ]
  },
  {
   "cell_type": "code",
   "execution_count": 17,
   "metadata": {
    "colab": {
     "base_uri": "https://localhost:8080/",
     "height": 221
    },
    "colab_type": "code",
    "id": "uPoNxa4hI7EW",
    "outputId": "b61c873c-1fe2-4824-e004-52d70c3234db"
   },
   "outputs": [
    {
     "data": {
      "text/plain": [
       "target     0\n",
       "var_62     0\n",
       "var_72     0\n",
       "var_71     0\n",
       "var_70     0\n",
       "          ..\n",
       "var_130    0\n",
       "var_129    0\n",
       "var_128    0\n",
       "var_127    0\n",
       "var_0      0\n",
       "Length: 201, dtype: int64"
      ]
     },
     "execution_count": 17,
     "metadata": {},
     "output_type": "execute_result"
    }
   ],
   "source": [
    "# verify missing values are filled by mean method\n",
    "santander_train.isnull().sum().sort_values(ascending=False)"
   ]
  },
  {
   "cell_type": "markdown",
   "metadata": {
    "colab_type": "text",
    "id": "KQoMbowGBhSY"
   },
   "source": [
    "# Feature selection"
   ]
  },
  {
   "cell_type": "code",
   "execution_count": 18,
   "metadata": {
    "colab": {
     "base_uri": "https://localhost:8080/",
     "height": 49
    },
    "colab_type": "code",
    "id": "qF-Zo9Un1oW6",
    "outputId": "85cd1362-5bd1-4961-8caf-4bc935f7a01f"
   },
   "outputs": [
    {
     "data": {
      "text/html": [
       "<div>\n",
       "<style scoped>\n",
       "    .dataframe tbody tr th:only-of-type {\n",
       "        vertical-align: middle;\n",
       "    }\n",
       "\n",
       "    .dataframe tbody tr th {\n",
       "        vertical-align: top;\n",
       "    }\n",
       "\n",
       "    .dataframe thead th {\n",
       "        text-align: right;\n",
       "    }\n",
       "</style>\n",
       "<table border=\"1\" class=\"dataframe\">\n",
       "  <thead>\n",
       "    <tr style=\"text-align: right;\">\n",
       "      <th></th>\n",
       "      <th>Feature 1</th>\n",
       "      <th>Feature 2</th>\n",
       "      <th>Correlation Coefficient</th>\n",
       "    </tr>\n",
       "  </thead>\n",
       "  <tbody>\n",
       "  </tbody>\n",
       "</table>\n",
       "</div>"
      ],
      "text/plain": [
       "Empty DataFrame\n",
       "Columns: [Feature 1, Feature 2, Correlation Coefficient]\n",
       "Index: []"
      ]
     },
     "execution_count": 18,
     "metadata": {},
     "output_type": "execute_result"
    }
   ],
   "source": [
    "# Training set high correlations\n",
    "df_train_corr = santander_train.corr().abs().unstack().sort_values(kind=\"quicksort\", ascending=False).reset_index()\n",
    "df_train_corr.rename(columns={\"level_0\": \"Feature 1\", \"level_1\": \"Feature 2\", 0: 'Correlation Coefficient'}, inplace=True)\n",
    "df_train_corr.drop(df_train_corr.iloc[1::2].index, inplace=True)\n",
    "\n",
    "df_train_corr_nd = df_train_corr.drop(df_train_corr[df_train_corr['Correlation Coefficient'] == 1.0].index)\n",
    "\n",
    "# Training set high correlations\n",
    "corr = df_train_corr_nd['Correlation Coefficient'] > 0.1\n",
    "df_train_corr_nd[corr]"
   ]
  },
  {
   "cell_type": "markdown",
   "metadata": {
    "colab_type": "text",
    "id": "_yfe7Ehg42rI"
   },
   "source": [
    "**In our dataset all the variables has a correlation coefficient < 0.08 which negligible**"
   ]
  },
  {
   "cell_type": "code",
   "execution_count": 19,
   "metadata": {
    "colab": {
     "base_uri": "https://localhost:8080/",
     "height": 1000
    },
    "colab_type": "code",
    "id": "RHmEhvL0NoN3",
    "outputId": "0e7faee5-426d-4c7d-a238-11f0aa3ecd1c"
   },
   "outputs": [
    {
     "data": {
      "image/png": "[encoded data removed]",
      "text/plain": [
       "<Figure size 4320x2880 with 2 Axes>"
      ]
     },
     "metadata": {
      "needs_background": "light"
     },
     "output_type": "display_data"
    }
   ],
   "source": [
    "# plot heatmap \n",
    "# Set width and height of plot\n",
    "f,ax = plt.subplots(figsize=(60,40))\n",
    "\n",
    "# Generate correlation matrix\n",
    "corr = santander_train.corr()\n",
    "\n",
    "# plot using seaborn library\n",
    "sns.heatmap(corr, mask=np.zeros_like(corr,dtype=np.bool), cmap=sns.diverging_palette(20, 220, n=200) ,square=True, ax=ax)\n",
    "## Give title. \n",
    "plt.title(\"Heatmap of all the Features\", fontsize = 30);"
   ]
  },
  {
   "cell_type": "markdown",
   "metadata": {
    "colab_type": "text",
    "id": "OB7LpnM16viK"
   },
   "source": [
    "**In our dataset all the variables has a correlation coefficient < 0.08 due to that we are getting almost same color through the heatmap**"
   ]
  },
  {
   "cell_type": "markdown",
   "metadata": {
    "colab_type": "text",
    "id": "Fv_teRRMFUBw"
   },
   "source": [
    "# Handle imbalance data\n",
    "\n",
    "---\n",
    "\n"
   ]
  },
  {
   "cell_type": "code",
   "execution_count": 20,
   "metadata": {
    "colab": {
     "base_uri": "https://localhost:8080/",
     "height": 312
    },
    "colab_type": "code",
    "id": "OCcz_1NvFR_2",
    "outputId": "e2c876b6-180a-45c4-fc9f-5ebda3995e07"
   },
   "outputs": [
    {
     "name": "stdout",
     "output_type": "stream",
     "text": [
      "Class 0: 179902\n",
      "Class 1: 20098\n"
     ]
    },
    {
     "data": {
      "image/png": "[encoded data removed]",
      "text/plain": [
       "<Figure size 432x288 with 1 Axes>"
      ]
     },
     "metadata": {
      "needs_background": "light"
     },
     "output_type": "display_data"
    }
   ],
   "source": [
    "# view count of both class\n",
    "target_count = santander_train.target.value_counts()\n",
    "print('Class 0:', target_count[0])\n",
    "print('Class 1:', target_count[1])\n",
    "\n",
    "# barplot for view counts of both class\n",
    "target_count.plot(kind='bar', title='Count (target)', color = \"lightblue\");"
   ]
  },
  {
   "cell_type": "code",
   "execution_count": 21,
   "metadata": {
    "colab": {},
    "colab_type": "code",
    "id": "mINlXlTMHzZY"
   },
   "outputs": [],
   "source": [
    "# spit data into dependent and independent variable\n",
    "X = santander_train.values[:,0:200]\n",
    "Y = santander_train.values[:,200]"
   ]
  },
  {
   "cell_type": "code",
   "execution_count": 22,
   "metadata": {
    "colab": {},
    "colab_type": "code",
    "id": "2xFFt5C7NzcF"
   },
   "outputs": [],
   "source": [
    "# split data into four parts, train and test with dependent and independent\n",
    "X_train, X_test, y_train, y_test = train_test_split(X,Y, test_size = 0.2, random_state = 1, stratify=Y)"
   ]
  },
  {
   "cell_type": "code",
   "execution_count": 23,
   "metadata": {
    "colab": {
     "base_uri": "https://localhost:8080/",
     "height": 119
    },
    "colab_type": "code",
    "id": "DF9QA4jqOF3_",
    "outputId": "8e8bc455-3d11-41af-a8b7-b61ecb723b65"
   },
   "outputs": [
    {
     "name": "stdout",
     "output_type": "stream",
     "text": [
      "Number of Training Examples = (160000, 200)\n",
      "Number of Test Examples = (40000, 200)\n",
      "\n",
      "Number of Training target  = (160000,)\n",
      "Number of Test target = (40000,)\n",
      "\n"
     ]
    }
   ],
   "source": [
    "# view data shape\n",
    "print('Number of Training Examples = {}'.format(X_train.shape))\n",
    "print('Number of Test Examples = {}\\n'.format(X_test.shape))\n",
    "print('Number of Training target  = {}'.format(y_train.shape))\n",
    "print('Number of Test target = {}\\n'.format(y_test.shape))"
   ]
  },
  {
   "cell_type": "code",
   "execution_count": 24,
   "metadata": {
    "colab": {
     "base_uri": "https://localhost:8080/",
     "height": 68
    },
    "colab_type": "code",
    "id": "C4OoxUklYRDI",
    "outputId": "bd3c01c6-a56e-4685-d84f-eed98b7ca036"
   },
   "outputs": [
    {
     "name": "stderr",
     "output_type": "stream",
     "text": [
      "C:\\Anaconda\\lib\\site-packages\\sklearn\\utils\\deprecation.py:87: FutureWarning: Function safe_indexing is deprecated; safe_indexing is deprecated in version 0.22 and will be removed in version 0.24.\n",
      "  warnings.warn(msg, category=FutureWarning)\n"
     ]
    },
    {
     "data": {
      "text/plain": [
       "((287844, 200), (287844,), (40000, 200), (40000,))"
      ]
     },
     "execution_count": 24,
     "metadata": {},
     "output_type": "execute_result"
    }
   ],
   "source": [
    "# Use SMOTE technique to balance dataset\n",
    "smt = SMOTE()\n",
    "X_train, y_train = smt.fit_sample(X_train, y_train)\n",
    "\n",
    "# view shape of dataset\n",
    "X_train.shape, y_train.shape, X_test.shape, y_test.shape "
   ]
  },
  {
   "cell_type": "code",
   "execution_count": 25,
   "metadata": {
    "colab": {
     "base_uri": "https://localhost:8080/",
     "height": 321
    },
    "colab_type": "code",
    "id": "QkddtBvcYUhE",
    "outputId": "5605d4a2-1c52-4c2e-d6be-9ca85dec9fb0"
   },
   "outputs": [
    {
     "name": "stdout",
     "output_type": "stream",
     "text": [
      "Class 0: 143922\n",
      "Class 1: 143922\n"
     ]
    },
    {
     "data": {
      "image/png": "[encoded data removed]",
      "text/plain": [
       "<Figure size 432x288 with 1 Axes>"
      ]
     },
     "metadata": {
      "needs_background": "light"
     },
     "output_type": "display_data"
    }
   ],
   "source": [
    "# verify balanced traget into train data\n",
    "target_count = pd.DataFrame(y_train)[0].value_counts()\n",
    "print('Class 0:', target_count[0])\n",
    "print('Class 1:', target_count[1])\n",
    "\n",
    "# barplot for view counts of both class\n",
    "target_count.plot(kind='bar', title='Count (target)', color = \"lightgreen\");"
   ]
  },
  {
   "cell_type": "markdown",
   "metadata": {
    "colab_type": "text",
    "id": "5GceYAJ4w_yG"
   },
   "source": [
    "\n",
    "\n",
    "---\n",
    "\n"
   ]
  },
  {
   "cell_type": "markdown",
   "metadata": {
    "colab_type": "text",
    "id": "JL7l6aTiRrK_"
   },
   "source": [
    "# Feature scaling"
   ]
  },
  {
   "cell_type": "code",
   "execution_count": 30,
   "metadata": {
    "colab": {},
    "colab_type": "code",
    "id": "htHqvCrC0YV9"
   },
   "outputs": [],
   "source": [
    "# Normalization function\n",
    "def normalize_data(df) :\n",
    "  for i in range(0, df.shape[1]) :\n",
    "    df.iloc[:,i] = (df.iloc[:,i] - (df.iloc[:,i].min()))/((df.iloc[:,i].max()) - (df.iloc[:,i].min()))"
   ]
  },
  {
   "cell_type": "code",
   "execution_count": 31,
   "metadata": {
    "colab": {},
    "colab_type": "code",
    "id": "oRCXOgkJkbCy"
   },
   "outputs": [],
   "source": [
    "# Data Normalization\n",
    "df_x_train = pd.DataFrame(X_train)\n",
    "df_x_test = pd.DataFrame(X_test)\n",
    "normalize_data(df_x_train)\n",
    "normalize_data(df_x_test)"
   ]
  },
  {
   "cell_type": "code",
   "execution_count": 32,
   "metadata": {
    "colab": {
     "base_uri": "https://localhost:8080/",
     "height": 346
    },
    "colab_type": "code",
    "id": "QsGZjVTVKDNm",
    "outputId": "349b8cc6-4f1a-417b-e5ac-f83ccd0235eb"
   },
   "outputs": [
    {
     "data": {
      "text/html": [
       "<div>\n",
       "<style scoped>\n",
       "    .dataframe tbody tr th:only-of-type {\n",
       "        vertical-align: middle;\n",
       "    }\n",
       "\n",
       "    .dataframe tbody tr th {\n",
       "        vertical-align: top;\n",
       "    }\n",
       "\n",
       "    .dataframe thead th {\n",
       "        text-align: right;\n",
       "    }\n",
       "</style>\n",
       "<table border=\"1\" class=\"dataframe\">\n",
       "  <thead>\n",
       "    <tr style=\"text-align: right;\">\n",
       "      <th></th>\n",
       "      <th>0</th>\n",
       "      <th>1</th>\n",
       "      <th>2</th>\n",
       "      <th>3</th>\n",
       "      <th>4</th>\n",
       "      <th>5</th>\n",
       "      <th>6</th>\n",
       "      <th>7</th>\n",
       "      <th>8</th>\n",
       "      <th>9</th>\n",
       "      <th>...</th>\n",
       "      <th>190</th>\n",
       "      <th>191</th>\n",
       "      <th>192</th>\n",
       "      <th>193</th>\n",
       "      <th>194</th>\n",
       "      <th>195</th>\n",
       "      <th>196</th>\n",
       "      <th>197</th>\n",
       "      <th>198</th>\n",
       "      <th>199</th>\n",
       "    </tr>\n",
       "  </thead>\n",
       "  <tbody>\n",
       "    <tr>\n",
       "      <td>count</td>\n",
       "      <td>287844.000000</td>\n",
       "      <td>287844.000000</td>\n",
       "      <td>287844.000000</td>\n",
       "      <td>287844.000000</td>\n",
       "      <td>287844.000000</td>\n",
       "      <td>287844.000000</td>\n",
       "      <td>287844.000000</td>\n",
       "      <td>287844.000000</td>\n",
       "      <td>287844.000000</td>\n",
       "      <td>287844.000000</td>\n",
       "      <td>...</td>\n",
       "      <td>287844.000000</td>\n",
       "      <td>287844.000000</td>\n",
       "      <td>287844.000000</td>\n",
       "      <td>287844.000000</td>\n",
       "      <td>287844.000000</td>\n",
       "      <td>287844.000000</td>\n",
       "      <td>287844.000000</td>\n",
       "      <td>287844.000000</td>\n",
       "      <td>287844.000000</td>\n",
       "      <td>287844.000000</td>\n",
       "    </tr>\n",
       "    <tr>\n",
       "      <td>mean</td>\n",
       "      <td>0.509830</td>\n",
       "      <td>0.509493</td>\n",
       "      <td>0.512224</td>\n",
       "      <td>0.501160</td>\n",
       "      <td>0.502428</td>\n",
       "      <td>0.522355</td>\n",
       "      <td>0.511476</td>\n",
       "      <td>0.493306</td>\n",
       "      <td>0.525747</td>\n",
       "      <td>0.496441</td>\n",
       "      <td>...</td>\n",
       "      <td>0.514572</td>\n",
       "      <td>0.515826</td>\n",
       "      <td>0.490903</td>\n",
       "      <td>0.496909</td>\n",
       "      <td>0.492736</td>\n",
       "      <td>0.511048</td>\n",
       "      <td>0.516386</td>\n",
       "      <td>0.490239</td>\n",
       "      <td>0.480932</td>\n",
       "      <td>0.506726</td>\n",
       "    </tr>\n",
       "    <tr>\n",
       "      <td>std</td>\n",
       "      <td>0.140632</td>\n",
       "      <td>0.132886</td>\n",
       "      <td>0.139149</td>\n",
       "      <td>0.131375</td>\n",
       "      <td>0.134593</td>\n",
       "      <td>0.134243</td>\n",
       "      <td>0.139822</td>\n",
       "      <td>0.133140</td>\n",
       "      <td>0.133825</td>\n",
       "      <td>0.136924</td>\n",
       "      <td>...</td>\n",
       "      <td>0.165744</td>\n",
       "      <td>0.162719</td>\n",
       "      <td>0.161486</td>\n",
       "      <td>0.164572</td>\n",
       "      <td>0.157358</td>\n",
       "      <td>0.166161</td>\n",
       "      <td>0.165211</td>\n",
       "      <td>0.161540</td>\n",
       "      <td>0.171090</td>\n",
       "      <td>0.159774</td>\n",
       "    </tr>\n",
       "    <tr>\n",
       "      <td>min</td>\n",
       "      <td>0.000000</td>\n",
       "      <td>0.000000</td>\n",
       "      <td>0.000000</td>\n",
       "      <td>0.000000</td>\n",
       "      <td>0.000000</td>\n",
       "      <td>0.000000</td>\n",
       "      <td>0.000000</td>\n",
       "      <td>0.000000</td>\n",
       "      <td>0.000000</td>\n",
       "      <td>0.000000</td>\n",
       "      <td>...</td>\n",
       "      <td>0.000000</td>\n",
       "      <td>0.000000</td>\n",
       "      <td>0.000000</td>\n",
       "      <td>0.000000</td>\n",
       "      <td>0.000000</td>\n",
       "      <td>0.000000</td>\n",
       "      <td>0.000000</td>\n",
       "      <td>0.000000</td>\n",
       "      <td>0.000000</td>\n",
       "      <td>0.000000</td>\n",
       "    </tr>\n",
       "    <tr>\n",
       "      <td>25%</td>\n",
       "      <td>0.435671</td>\n",
       "      <td>0.441876</td>\n",
       "      <td>0.436543</td>\n",
       "      <td>0.433034</td>\n",
       "      <td>0.435733</td>\n",
       "      <td>0.452576</td>\n",
       "      <td>0.438828</td>\n",
       "      <td>0.420314</td>\n",
       "      <td>0.454872</td>\n",
       "      <td>0.422800</td>\n",
       "      <td>...</td>\n",
       "      <td>0.399730</td>\n",
       "      <td>0.397682</td>\n",
       "      <td>0.380234</td>\n",
       "      <td>0.384483</td>\n",
       "      <td>0.376389</td>\n",
       "      <td>0.394726</td>\n",
       "      <td>0.389164</td>\n",
       "      <td>0.379111</td>\n",
       "      <td>0.365394</td>\n",
       "      <td>0.386257</td>\n",
       "    </tr>\n",
       "    <tr>\n",
       "      <td>50%</td>\n",
       "      <td>0.504129</td>\n",
       "      <td>0.504505</td>\n",
       "      <td>0.506317</td>\n",
       "      <td>0.499708</td>\n",
       "      <td>0.501679</td>\n",
       "      <td>0.519332</td>\n",
       "      <td>0.504565</td>\n",
       "      <td>0.493807</td>\n",
       "      <td>0.524033</td>\n",
       "      <td>0.500961</td>\n",
       "      <td>...</td>\n",
       "      <td>0.512281</td>\n",
       "      <td>0.510215</td>\n",
       "      <td>0.488608</td>\n",
       "      <td>0.499449</td>\n",
       "      <td>0.491121</td>\n",
       "      <td>0.507357</td>\n",
       "      <td>0.519519</td>\n",
       "      <td>0.488480</td>\n",
       "      <td>0.482760</td>\n",
       "      <td>0.513861</td>\n",
       "    </tr>\n",
       "    <tr>\n",
       "      <td>75%</td>\n",
       "      <td>0.578646</td>\n",
       "      <td>0.580386</td>\n",
       "      <td>0.583349</td>\n",
       "      <td>0.571350</td>\n",
       "      <td>0.572190</td>\n",
       "      <td>0.597391</td>\n",
       "      <td>0.582677</td>\n",
       "      <td>0.561868</td>\n",
       "      <td>0.603411</td>\n",
       "      <td>0.573892</td>\n",
       "      <td>...</td>\n",
       "      <td>0.626124</td>\n",
       "      <td>0.624733</td>\n",
       "      <td>0.598014</td>\n",
       "      <td>0.612929</td>\n",
       "      <td>0.609894</td>\n",
       "      <td>0.623026</td>\n",
       "      <td>0.643318</td>\n",
       "      <td>0.606155</td>\n",
       "      <td>0.604263</td>\n",
       "      <td>0.633706</td>\n",
       "    </tr>\n",
       "    <tr>\n",
       "      <td>max</td>\n",
       "      <td>1.000000</td>\n",
       "      <td>1.000000</td>\n",
       "      <td>1.000000</td>\n",
       "      <td>1.000000</td>\n",
       "      <td>1.000000</td>\n",
       "      <td>1.000000</td>\n",
       "      <td>1.000000</td>\n",
       "      <td>1.000000</td>\n",
       "      <td>1.000000</td>\n",
       "      <td>1.000000</td>\n",
       "      <td>...</td>\n",
       "      <td>1.000000</td>\n",
       "      <td>1.000000</td>\n",
       "      <td>1.000000</td>\n",
       "      <td>1.000000</td>\n",
       "      <td>1.000000</td>\n",
       "      <td>1.000000</td>\n",
       "      <td>1.000000</td>\n",
       "      <td>1.000000</td>\n",
       "      <td>1.000000</td>\n",
       "      <td>1.000000</td>\n",
       "    </tr>\n",
       "  </tbody>\n",
       "</table>\n",
       "<p>8 rows × 200 columns</p>\n",
       "</div>"
      ],
      "text/plain": [
       "                 0              1              2              3    \\\n",
       "count  287844.000000  287844.000000  287844.000000  287844.000000   \n",
       "mean        0.509830       0.509493       0.512224       0.501160   \n",
       "std         0.140632       0.132886       0.139149       0.131375   \n",
       "min         0.000000       0.000000       0.000000       0.000000   \n",
       "25%         0.435671       0.441876       0.436543       0.433034   \n",
       "50%         0.504129       0.504505       0.506317       0.499708   \n",
       "75%         0.578646       0.580386       0.583349       0.571350   \n",
       "max         1.000000       1.000000       1.000000       1.000000   \n",
       "\n",
       "                 4              5              6              7    \\\n",
       "count  287844.000000  287844.000000  287844.000000  287844.000000   \n",
       "mean        0.502428       0.522355       0.511476       0.493306   \n",
       "std         0.134593       0.134243       0.139822       0.133140   \n",
       "min         0.000000       0.000000       0.000000       0.000000   \n",
       "25%         0.435733       0.452576       0.438828       0.420314   \n",
       "50%         0.501679       0.519332       0.504565       0.493807   \n",
       "75%         0.572190       0.597391       0.582677       0.561868   \n",
       "max         1.000000       1.000000       1.000000       1.000000   \n",
       "\n",
       "                 8              9    ...            190            191  \\\n",
       "count  287844.000000  287844.000000  ...  287844.000000  287844.000000   \n",
       "mean        0.525747       0.496441  ...       0.514572       0.515826   \n",
       "std         0.133825       0.136924  ...       0.165744       0.162719   \n",
       "min         0.000000       0.000000  ...       0.000000       0.000000   \n",
       "25%         0.454872       0.422800  ...       0.399730       0.397682   \n",
       "50%         0.524033       0.500961  ...       0.512281       0.510215   \n",
       "75%         0.603411       0.573892  ...       0.626124       0.624733   \n",
       "max         1.000000       1.000000  ...       1.000000       1.000000   \n",
       "\n",
       "                 192            193            194            195  \\\n",
       "count  287844.000000  287844.000000  287844.000000  287844.000000   \n",
       "mean        0.490903       0.496909       0.492736       0.511048   \n",
       "std         0.161486       0.164572       0.157358       0.166161   \n",
       "min         0.000000       0.000000       0.000000       0.000000   \n",
       "25%         0.380234       0.384483       0.376389       0.394726   \n",
       "50%         0.488608       0.499449       0.491121       0.507357   \n",
       "75%         0.598014       0.612929       0.609894       0.623026   \n",
       "max         1.000000       1.000000       1.000000       1.000000   \n",
       "\n",
       "                 196            197            198            199  \n",
       "count  287844.000000  287844.000000  287844.000000  287844.000000  \n",
       "mean        0.516386       0.490239       0.480932       0.506726  \n",
       "std         0.165211       0.161540       0.171090       0.159774  \n",
       "min         0.000000       0.000000       0.000000       0.000000  \n",
       "25%         0.389164       0.379111       0.365394       0.386257  \n",
       "50%         0.519519       0.488480       0.482760       0.513861  \n",
       "75%         0.643318       0.606155       0.604263       0.633706  \n",
       "max         1.000000       1.000000       1.000000       1.000000  \n",
       "\n",
       "[8 rows x 200 columns]"
      ]
     },
     "execution_count": 32,
     "metadata": {},
     "output_type": "execute_result"
    }
   ],
   "source": [
    "# View normalize data\n",
    "pd.DataFrame(X_train).describe()"
   ]
  },
  {
   "cell_type": "code",
   "execution_count": 33,
   "metadata": {
    "colab": {
     "base_uri": "https://localhost:8080/",
     "height": 119
    },
    "colab_type": "code",
    "id": "IED2gdMcS9Re",
    "outputId": "ea175c24-f39e-41cf-d88b-730de53b4102"
   },
   "outputs": [
    {
     "name": "stdout",
     "output_type": "stream",
     "text": [
      "Number of Training Examples = (287844, 200)\n",
      "Number of Test Examples = (40000, 200)\n",
      "\n",
      "Number of Training target = (287844,)\n",
      "Number of Test target  = (40000,)\n",
      "\n"
     ]
    }
   ],
   "source": [
    "# View data shape\n",
    "print('Number of Training Examples = {}'.format(X_train.shape))\n",
    "print('Number of Test Examples = {}\\n'.format(X_test.shape))\n",
    "print('Number of Training target = {}'.format(y_train.shape))\n",
    "print('Number of Test target  = {}\\n'.format(y_test.shape))"
   ]
  },
  {
   "cell_type": "markdown",
   "metadata": {
    "colab_type": "text",
    "id": "ODDBCvx9yA39"
   },
   "source": [
    "\n",
    "\n",
    "---\n",
    "\n",
    "# **Model** **Development**\n",
    "\n",
    "\n",
    "---\n",
    "\n"
   ]
  },
  {
   "cell_type": "code",
   "execution_count": 34,
   "metadata": {
    "colab": {},
    "colab_type": "code",
    "id": "Y1HMt8-i7CW1"
   },
   "outputs": [],
   "source": [
    "# function for plot ROC \n",
    "def plot_roc(model) :\n",
    "  # calculate the fpr and tpr for all thresholds of the classification\n",
    "  probs = model.predict_proba(X_test)\n",
    "  preds = probs[:,1]\n",
    "  fpr, tpr, threshold = metrics.roc_curve(y_test, preds)\n",
    "  roc_auc = metrics.auc(fpr, tpr)\n",
    "\n",
    "  # plot ROC\n",
    "  plt.title('Receiver Operating Characteristic')\n",
    "  plt.plot(fpr, tpr, 'b', label = 'AUC = %0.2f' % roc_auc)\n",
    "  plt.legend(loc = 'lower right')\n",
    "  plt.plot([0, 1], [0, 1],'r--')\n",
    "  plt.xlim([0, 1])\n",
    "  plt.ylim([0, 1])\n",
    "  plt.ylabel('True Positive Rate')\n",
    "  plt.xlabel('False Positive Rate')\n",
    "  plt.show()\n"
   ]
  },
  {
   "cell_type": "markdown",
   "metadata": {
    "colab_type": "text",
    "id": "hwqnyD7LyIO_"
   },
   "source": [
    "# **Logistic Regression**"
   ]
  },
  {
   "cell_type": "code",
   "execution_count": 35,
   "metadata": {
    "colab": {
     "base_uri": "https://localhost:8080/",
     "height": 102
    },
    "colab_type": "code",
    "id": "ILTdwkHmyGVL",
    "outputId": "8b7f94c9-0288-4911-cf1a-beff7fffb974"
   },
   "outputs": [
    {
     "data": {
      "text/plain": [
       "LogisticRegression(C=1.0, class_weight=None, dual=False, fit_intercept=True,\n",
       "                   intercept_scaling=1, l1_ratio=None, max_iter=100,\n",
       "                   multi_class='auto', n_jobs=None, penalty='l2',\n",
       "                   random_state=None, solver='lbfgs', tol=0.0001, verbose=0,\n",
       "                   warm_start=False)"
      ]
     },
     "execution_count": 35,
     "metadata": {},
     "output_type": "execute_result"
    }
   ],
   "source": [
    "# build logistic regression\n",
    "logistic_regresssion_model = LogisticRegression()\n",
    "logistic_regresssion_model.fit(X_train, y_train)"
   ]
  },
  {
   "cell_type": "code",
   "execution_count": 36,
   "metadata": {
    "colab": {},
    "colab_type": "code",
    "id": "xb_5w0KN0hP0"
   },
   "outputs": [],
   "source": [
    "# predict logistic regression model\n",
    "logit_predict = logistic_regresssion_model.predict(X_test)"
   ]
  },
  {
   "cell_type": "code",
   "execution_count": 37,
   "metadata": {
    "colab": {
     "base_uri": "https://localhost:8080/",
     "height": 34
    },
    "colab_type": "code",
    "id": "rpmA-Sw8ziMI",
    "outputId": "9bbcb901-2b02-4dfd-a5e2-0b1aae61b2e3"
   },
   "outputs": [
    {
     "data": {
      "text/plain": [
       "70.38"
      ]
     },
     "execution_count": 37,
     "metadata": {},
     "output_type": "execute_result"
    }
   ],
   "source": [
    "# build confusion matrix\n",
    "confusion_matrix_logit = pd.crosstab(y_test, logit_predict, rownames=['Actual'], colnames=['Predicted'])\n",
    "\n",
    "# Let us save TN, TP, FN, FP\n",
    "TP = confusion_matrix_logit.iloc[0,0]\n",
    "FN = confusion_matrix_logit.iloc[0,1]\n",
    "FP = confusion_matrix_logit.iloc[1,0]\n",
    "TN = confusion_matrix_logit.iloc[1,1]\n",
    "\n",
    "# check Accuracy\n",
    "(TP + TN) * 100 / (TP+TN+FP+FN) "
   ]
  },
  {
   "cell_type": "code",
   "execution_count": 38,
   "metadata": {
    "colab": {
     "base_uri": "https://localhost:8080/",
     "height": 34
    },
    "colab_type": "code",
    "id": "-O8nJRru_PbF",
    "outputId": "9ae19884-34d0-491d-b69e-2530afee0118"
   },
   "outputs": [
    {
     "data": {
      "text/html": [
       "<div>\n",
       "<style scoped>\n",
       "    .dataframe tbody tr th:only-of-type {\n",
       "        vertical-align: middle;\n",
       "    }\n",
       "\n",
       "    .dataframe tbody tr th {\n",
       "        vertical-align: top;\n",
       "    }\n",
       "\n",
       "    .dataframe thead th {\n",
       "        text-align: right;\n",
       "    }\n",
       "</style>\n",
       "<table border=\"1\" class=\"dataframe\">\n",
       "  <thead>\n",
       "    <tr style=\"text-align: right;\">\n",
       "      <th>Predicted</th>\n",
       "      <th>0.0</th>\n",
       "      <th>1.0</th>\n",
       "    </tr>\n",
       "    <tr>\n",
       "      <th>Actual</th>\n",
       "      <th></th>\n",
       "      <th></th>\n",
       "    </tr>\n",
       "  </thead>\n",
       "  <tbody>\n",
       "    <tr>\n",
       "      <td>0.0</td>\n",
       "      <td>24915</td>\n",
       "      <td>11065</td>\n",
       "    </tr>\n",
       "    <tr>\n",
       "      <td>1.0</td>\n",
       "      <td>783</td>\n",
       "      <td>3237</td>\n",
       "    </tr>\n",
       "  </tbody>\n",
       "</table>\n",
       "</div>"
      ],
      "text/plain": [
       "Predicted    0.0    1.0\n",
       "Actual                 \n",
       "0.0        24915  11065\n",
       "1.0          783   3237"
      ]
     },
     "execution_count": 38,
     "metadata": {},
     "output_type": "execute_result"
    }
   ],
   "source": [
    "# view confusion matrix\n",
    "confusion_matrix_logit"
   ]
  },
  {
   "cell_type": "code",
   "execution_count": 39,
   "metadata": {
    "colab": {},
    "colab_type": "code",
    "id": "K7o4I4ZrvgvZ"
   },
   "outputs": [
    {
     "data": {
      "text/plain": [
       "30.75319622012229"
      ]
     },
     "execution_count": 39,
     "metadata": {},
     "output_type": "execute_result"
    }
   ],
   "source": [
    "# FNR\n",
    "(FN * 100)/(TP + FN)"
   ]
  },
  {
   "cell_type": "code",
   "execution_count": 40,
   "metadata": {
    "colab": {},
    "colab_type": "code",
    "id": "zsxhzN1Gvl4o"
   },
   "outputs": [
    {
     "data": {
      "text/plain": [
       "69.24680377987771"
      ]
     },
     "execution_count": 40,
     "metadata": {},
     "output_type": "execute_result"
    }
   ],
   "source": [
    "# Recall\n",
    "(TP * 100)/(TP + FN)"
   ]
  },
  {
   "cell_type": "code",
   "execution_count": 41,
   "metadata": {
    "colab": {},
    "colab_type": "code",
    "id": "d6ctI5nYvwnJ"
   },
   "outputs": [
    {
     "data": {
      "text/plain": [
       "3.0469297221573663"
      ]
     },
     "execution_count": 41,
     "metadata": {},
     "output_type": "execute_result"
    }
   ],
   "source": [
    "# Precision\n",
    "(FP * 100)/(TP + FP)"
   ]
  },
  {
   "cell_type": "code",
   "execution_count": 42,
   "metadata": {
    "colab": {
     "base_uri": "https://localhost:8080/",
     "height": 295
    },
    "colab_type": "code",
    "id": "FpYOnbwx_Qnu",
    "outputId": "565cf803-bf19-4698-9a50-68989c857ead"
   },
   "outputs": [
    {
     "data": {
      "image/png": "[encoded data removed]",
      "text/plain": [
       "<Figure size 432x288 with 1 Axes>"
      ]
     },
     "metadata": {
      "needs_background": "light"
     },
     "output_type": "display_data"
    }
   ],
   "source": [
    "# plot ROC\n",
    "plot_roc(logistic_regresssion_model)"
   ]
  },
  {
   "cell_type": "markdown",
   "metadata": {
    "colab_type": "text",
    "id": "Y_YzVZh6cJNo"
   },
   "source": [
    "**Logistic Regression perforamce matrix**\n",
    "\n",
    "\n",
    "*   Accuracy - 70.51\n",
    "*   Misclassification -  21.07\n",
    "*   Recall - 69.40\n",
    "*   Precision - 96.94\n",
    "*   FNR - 30.59\n",
    "*   AUC - 0.84\n",
    "\n",
    "\n",
    "\n",
    "\n",
    "\n",
    "\n"
   ]
  },
  {
   "cell_type": "markdown",
   "metadata": {
    "colab_type": "text",
    "id": "4dnJTVPduWvv"
   },
   "source": [
    "# **Random forest**"
   ]
  },
  {
   "cell_type": "code",
   "execution_count": null,
   "metadata": {
    "colab": {},
    "colab_type": "code",
    "id": "PfMG2ooJuiVs"
   },
   "outputs": [],
   "source": [
    "# Random Forest\n",
    "random_forest_model = RandomForestClassifier(n_estimators = 150).fit(X_train, y_train)"
   ]
  },
  {
   "cell_type": "code",
   "execution_count": 50,
   "metadata": {
    "colab": {
     "base_uri": "https://localhost:8080/",
     "height": 153
    },
    "colab_type": "code",
    "id": "uvYT8cAYutVO",
    "outputId": "7fb0338a-4aa7-424b-87e1-b5425648a73d"
   },
   "outputs": [
    {
     "data": {
      "text/plain": [
       "RandomForestClassifier(bootstrap=True, ccp_alpha=0.0, class_weight=None,\n",
       "                       criterion='gini', max_depth=None, max_features='auto',\n",
       "                       max_leaf_nodes=None, max_samples=None,\n",
       "                       min_impurity_decrease=0.0, min_impurity_split=None,\n",
       "                       min_samples_leaf=1, min_samples_split=2,\n",
       "                       min_weight_fraction_leaf=0.0, n_estimators=150,\n",
       "                       n_jobs=None, oob_score=False, random_state=None,\n",
       "                       verbose=0, warm_start=False)"
      ]
     },
     "execution_count": 50,
     "metadata": {
      "tags": []
     },
     "output_type": "execute_result"
    }
   ],
   "source": [
    "random_forest_model"
   ]
  },
  {
   "cell_type": "code",
   "execution_count": 0,
   "metadata": {
    "colab": {},
    "colab_type": "code",
    "id": "ZMULOPdauzR2"
   },
   "outputs": [],
   "source": [
    "random_forest_prediction = random_forest_model.predict(X_test)"
   ]
  },
  {
   "cell_type": "code",
   "execution_count": 52,
   "metadata": {
    "colab": {
     "base_uri": "https://localhost:8080/",
     "height": 34
    },
    "colab_type": "code",
    "id": "Mzp8DQGLu4Q2",
    "outputId": "9fbd786c-4676-495c-db4e-95f0f516dbf2"
   },
   "outputs": [
    {
     "data": {
      "text/plain": [
       "85.3625"
      ]
     },
     "execution_count": 52,
     "metadata": {
      "tags": []
     },
     "output_type": "execute_result"
    }
   ],
   "source": [
    "# build confusion matrix\n",
    "confusion_matrix_random_forest = pd.crosstab(y_test, random_forest_prediction,  rownames=['Actual'], colnames=['Predicted'])\n",
    "\n",
    "# Let us save TN, TP, FN, FP\n",
    "TP = confusion_matrix_random_forest.iloc[0,0]\n",
    "FN = confusion_matrix_random_forest.iloc[0,1]\n",
    "FP = confusion_matrix_random_forest.iloc[1,0]\n",
    "TN = confusion_matrix_random_forest.iloc[1,1]\n",
    "\n",
    "# check Accuracy\n",
    "(TP + TN) / (TP+TN+FP+FN) * 100"
   ]
  },
  {
   "cell_type": "code",
   "execution_count": 53,
   "metadata": {
    "colab": {
     "base_uri": "https://localhost:8080/",
     "height": 142
    },
    "colab_type": "code",
    "id": "HjLpaUCXAbdM",
    "outputId": "4f2203e8-be30-43c2-df00-6b2d116b3efe"
   },
   "outputs": [
    {
     "data": {
      "text/html": [
       "<div>\n",
       "<style scoped>\n",
       "    .dataframe tbody tr th:only-of-type {\n",
       "        vertical-align: middle;\n",
       "    }\n",
       "\n",
       "    .dataframe tbody tr th {\n",
       "        vertical-align: top;\n",
       "    }\n",
       "\n",
       "    .dataframe thead th {\n",
       "        text-align: right;\n",
       "    }\n",
       "</style>\n",
       "<table border=\"1\" class=\"dataframe\">\n",
       "  <thead>\n",
       "    <tr style=\"text-align: right;\">\n",
       "      <th>Predicted</th>\n",
       "      <th>0.0</th>\n",
       "      <th>1.0</th>\n",
       "    </tr>\n",
       "    <tr>\n",
       "      <th>Actual</th>\n",
       "      <th></th>\n",
       "      <th></th>\n",
       "    </tr>\n",
       "  </thead>\n",
       "  <tbody>\n",
       "    <tr>\n",
       "      <th>0.0</th>\n",
       "      <td>33852</td>\n",
       "      <td>2128</td>\n",
       "    </tr>\n",
       "    <tr>\n",
       "      <th>1.0</th>\n",
       "      <td>3727</td>\n",
       "      <td>293</td>\n",
       "    </tr>\n",
       "  </tbody>\n",
       "</table>\n",
       "</div>"
      ],
      "text/plain": [
       "Predicted    0.0   1.0\n",
       "Actual                \n",
       "0.0        33852  2128\n",
       "1.0         3727   293"
      ]
     },
     "execution_count": 53,
     "metadata": {
      "tags": []
     },
     "output_type": "execute_result"
    }
   ],
   "source": [
    "confusion_matrix_random_forest"
   ]
  },
  {
   "cell_type": "code",
   "execution_count": 54,
   "metadata": {
    "colab": {
     "base_uri": "https://localhost:8080/",
     "height": 34
    },
    "colab_type": "code",
    "id": "RwwDkIdjAFxa",
    "outputId": "7044e618-b47d-4ec5-825a-4c89d0578a96"
   },
   "outputs": [
    {
     "data": {
      "text/plain": [
       "5.914396887159533"
      ]
     },
     "execution_count": 54,
     "metadata": {
      "tags": []
     },
     "output_type": "execute_result"
    }
   ],
   "source": [
    "# FNR\n",
    "(FN * 100)/(TP + FN)"
   ]
  },
  {
   "cell_type": "code",
   "execution_count": 55,
   "metadata": {
    "colab": {
     "base_uri": "https://localhost:8080/",
     "height": 34
    },
    "colab_type": "code",
    "id": "njyNZX4ywOcr",
    "outputId": "da284c87-32ca-4eed-e034-3e001f6de017"
   },
   "outputs": [
    {
     "data": {
      "text/plain": [
       "94.08560311284047"
      ]
     },
     "execution_count": 55,
     "metadata": {
      "tags": []
     },
     "output_type": "execute_result"
    }
   ],
   "source": [
    "# Recall\n",
    "(TP * 100)/(TP + FN)"
   ]
  },
  {
   "cell_type": "code",
   "execution_count": 56,
   "metadata": {
    "colab": {
     "base_uri": "https://localhost:8080/",
     "height": 34
    },
    "colab_type": "code",
    "id": "MmODFhWJwe_q",
    "outputId": "d961b242-4106-478c-eae4-a7c3e08dc631"
   },
   "outputs": [
    {
     "data": {
      "text/plain": [
       "90.08222677559276"
      ]
     },
     "execution_count": 56,
     "metadata": {
      "tags": []
     },
     "output_type": "execute_result"
    }
   ],
   "source": [
    "# Precision\n",
    "(TP * 100)/(TP + FP)"
   ]
  },
  {
   "cell_type": "code",
   "execution_count": 57,
   "metadata": {
    "colab": {
     "base_uri": "https://localhost:8080/",
     "height": 295
    },
    "colab_type": "code",
    "id": "VU315jU_5WJf",
    "outputId": "6653cc01-0a63-4da6-fcbb-c95d19167c1b"
   },
   "outputs": [
    {
     "data": {
      "image/png": "[encoded data removed]",
      "text/plain": [
       "<Figure size 432x288 with 1 Axes>"
      ]
     },
     "metadata": {
      "tags": []
     },
     "output_type": "display_data"
    }
   ],
   "source": [
    "# plot ROC \n",
    "plot_roc(random_forest_model)"
   ]
  },
  {
   "cell_type": "code",
   "execution_count": 59,
   "metadata": {
    "colab": {
     "base_uri": "https://localhost:8080/",
     "height": 329
    },
    "colab_type": "code",
    "id": "Wat0qLGQD0fv",
    "outputId": "eb301a93-e289-45d2-aea0-598f5b6b4b41"
   },
   "outputs": [
    {
     "name": "stderr",
     "output_type": "stream",
     "text": [
      "No handles with labels found to put in legend.\n"
     ]
    },
    {
     "data": {
      "image/png": "[encoded data removed]",
      "text/plain": [
       "<Figure size 432x288 with 1 Axes>"
      ]
     },
     "metadata": {
      "tags": []
     },
     "output_type": "display_data"
    },
    {
     "data": {
      "text/plain": [
       "<Figure size 1080x1440 with 0 Axes>"
      ]
     },
     "metadata": {
      "tags": []
     },
     "output_type": "display_data"
    }
   ],
   "source": [
    "# fearure importance plot\n",
    "feature_imp = pd.Series(random_forest_model.feature_importances_, index = santander_train.columns.values[0:200]).sort_values(ascending=False)\n",
    "\n",
    "# take top 15 features \n",
    "f_imp = feature_imp[0:15]\n",
    "\n",
    "%matplotlib inline\n",
    "# Creating a bar plot\n",
    "sns.barplot(x=f_imp, y=f_imp.index)\n",
    "# Add labels to your graph\n",
    "plt.xlabel('Feature Importance Score')\n",
    "plt.ylabel('Features')\n",
    "plt.title(\"Visualizing Important Features\")\n",
    "plt.legend()\n",
    "plt.figure(figsize=(15, 20))\n",
    "plt.show()"
   ]
  },
  {
   "cell_type": "markdown",
   "metadata": {
    "colab_type": "text",
    "id": "kMxTD3mOvZ58"
   },
   "source": [
    "**Random forest perforamce matrix**\n",
    "\n",
    "```\n",
    "number of trees 150\n",
    "```\n",
    "\n",
    "\n",
    "*   Accuracy - 85.39\n",
    "*   Misclassification - 14.61\n",
    "*   Recall - 94.09\n",
    "*   Precision - 90.09\n",
    "*   FNR - 5.90\n",
    "*   AUC - 0.71\n",
    "\n",
    "\n"
   ]
  },
  {
   "cell_type": "markdown",
   "metadata": {
    "colab_type": "text",
    "id": "5ZnGVofmwmmK"
   },
   "source": [
    "# **Naive bayes classifier**\n",
    "\n",
    "\n"
   ]
  },
  {
   "cell_type": "code",
   "execution_count": 0,
   "metadata": {
    "colab": {},
    "colab_type": "code",
    "id": "rFH8S-nBxGyR"
   },
   "outputs": [],
   "source": [
    "# Build Naive bayes\n",
    "naive_bayes_model = GaussianNB().fit(X_train,y_train)"
   ]
  },
  {
   "cell_type": "code",
   "execution_count": 0,
   "metadata": {
    "colab": {},
    "colab_type": "code",
    "id": "Utwk4HjRxMkR"
   },
   "outputs": [],
   "source": [
    "# predict naive bayes\n",
    "naive_bayes_predict = naive_bayes_model.predict(X_test)"
   ]
  },
  {
   "cell_type": "code",
   "execution_count": 62,
   "metadata": {
    "colab": {
     "base_uri": "https://localhost:8080/",
     "height": 34
    },
    "colab_type": "code",
    "id": "j-Kw36orxUcc",
    "outputId": "2d92d89e-e4fd-483f-8e9f-473edd497241"
   },
   "outputs": [
    {
     "data": {
      "text/plain": [
       "83.285"
      ]
     },
     "execution_count": 62,
     "metadata": {
      "tags": []
     },
     "output_type": "execute_result"
    }
   ],
   "source": [
    "# build confusion matrix\n",
    "confusion_matrix_naive_bayes = pd.crosstab(y_test, naive_bayes_predict, rownames=['Actual'], colnames=['Predicted'])\n",
    "\n",
    "# Let us save TN, TP, FN, FP\n",
    "TP = confusion_matrix_naive_bayes.iloc[0,0]\n",
    "FN = confusion_matrix_naive_bayes.iloc[0,1]\n",
    "FP = confusion_matrix_naive_bayes.iloc[1,0]\n",
    "TN = confusion_matrix_naive_bayes.iloc[1,1]\n",
    "\n",
    "# check Accuracy\n",
    "((TP + TN) / (TP+TN+FP+FN)) * 100 "
   ]
  },
  {
   "cell_type": "code",
   "execution_count": 63,
   "metadata": {
    "colab": {
     "base_uri": "https://localhost:8080/",
     "height": 142
    },
    "colab_type": "code",
    "id": "zpBK7_WDxvrv",
    "outputId": "183590fb-eab8-4ca9-9d10-7bcc87692c9a"
   },
   "outputs": [
    {
     "data": {
      "text/html": [
       "<div>\n",
       "<style scoped>\n",
       "    .dataframe tbody tr th:only-of-type {\n",
       "        vertical-align: middle;\n",
       "    }\n",
       "\n",
       "    .dataframe tbody tr th {\n",
       "        vertical-align: top;\n",
       "    }\n",
       "\n",
       "    .dataframe thead th {\n",
       "        text-align: right;\n",
       "    }\n",
       "</style>\n",
       "<table border=\"1\" class=\"dataframe\">\n",
       "  <thead>\n",
       "    <tr style=\"text-align: right;\">\n",
       "      <th>Predicted</th>\n",
       "      <th>0.0</th>\n",
       "      <th>1.0</th>\n",
       "    </tr>\n",
       "    <tr>\n",
       "      <th>Actual</th>\n",
       "      <th></th>\n",
       "      <th></th>\n",
       "    </tr>\n",
       "  </thead>\n",
       "  <tbody>\n",
       "    <tr>\n",
       "      <th>0.0</th>\n",
       "      <td>32938</td>\n",
       "      <td>3042</td>\n",
       "    </tr>\n",
       "    <tr>\n",
       "      <th>1.0</th>\n",
       "      <td>3644</td>\n",
       "      <td>376</td>\n",
       "    </tr>\n",
       "  </tbody>\n",
       "</table>\n",
       "</div>"
      ],
      "text/plain": [
       "Predicted    0.0   1.0\n",
       "Actual                \n",
       "0.0        32938  3042\n",
       "1.0         3644   376"
      ]
     },
     "execution_count": 63,
     "metadata": {
      "tags": []
     },
     "output_type": "execute_result"
    }
   ],
   "source": [
    "# view confusion matrix\n",
    "confusion_matrix_naive_bayes"
   ]
  },
  {
   "cell_type": "code",
   "execution_count": 64,
   "metadata": {
    "colab": {
     "base_uri": "https://localhost:8080/",
     "height": 34
    },
    "colab_type": "code",
    "id": "hOcErSuZyuyh",
    "outputId": "24789635-86e6-4614-e1fe-a01d621d4694"
   },
   "outputs": [
    {
     "data": {
      "text/plain": [
       "8.454697053918844"
      ]
     },
     "execution_count": 64,
     "metadata": {
      "tags": []
     },
     "output_type": "execute_result"
    }
   ],
   "source": [
    "# FNR\n",
    "(FN * 100)/(TP + FN)"
   ]
  },
  {
   "cell_type": "code",
   "execution_count": 65,
   "metadata": {
    "colab": {
     "base_uri": "https://localhost:8080/",
     "height": 34
    },
    "colab_type": "code",
    "id": "x2RpyoPLxaMg",
    "outputId": "4c2a3c0f-6b49-40f1-800b-5a0fb51b8adf"
   },
   "outputs": [
    {
     "data": {
      "text/plain": [
       "91.54530294608115"
      ]
     },
     "execution_count": 65,
     "metadata": {
      "tags": []
     },
     "output_type": "execute_result"
    }
   ],
   "source": [
    "# Recall\n",
    "(TP * 100) / (TP + FN)"
   ]
  },
  {
   "cell_type": "code",
   "execution_count": 66,
   "metadata": {
    "colab": {
     "base_uri": "https://localhost:8080/",
     "height": 34
    },
    "colab_type": "code",
    "id": "ya8gfVSyzAbI",
    "outputId": "d778223c-34a6-4f45-90cf-542d579f8157"
   },
   "outputs": [
    {
     "data": {
      "text/plain": [
       "90.03881690448854"
      ]
     },
     "execution_count": 66,
     "metadata": {
      "tags": []
     },
     "output_type": "execute_result"
    }
   ],
   "source": [
    "# Precision\n",
    "(TP * 100)/(TP + FP)"
   ]
  },
  {
   "cell_type": "code",
   "execution_count": 67,
   "metadata": {
    "colab": {
     "base_uri": "https://localhost:8080/",
     "height": 295
    },
    "colab_type": "code",
    "id": "G1OaMrQS_56s",
    "outputId": "4c694588-4bef-4288-967c-66d9afa1a60c"
   },
   "outputs": [
    {
     "data": {
      "image/png": "[encoded data removed]",
      "text/plain": [
       "<Figure size 432x288 with 1 Axes>"
      ]
     },
     "metadata": {
      "tags": []
     },
     "output_type": "display_data"
    }
   ],
   "source": [
    "# plot ROC\n",
    "plot_roc(naive_bayes_model)"
   ]
  },
  {
   "cell_type": "markdown",
   "metadata": {
    "colab_type": "text",
    "id": "XSnfRGbgxdbc"
   },
   "source": [
    "**Naive Bayes perforamce matrix**\n",
    "\n",
    "\n",
    "*   Accuracy - 83.27\n",
    "*   Misclassification - 16.72\n",
    "*   Recall - 91.53\n",
    "*   Precision - 90.03\n",
    "*   FNR - 8.46\n",
    "*   AUC - 0.40\n",
    "\n",
    "\n",
    "\n"
   ]
  }
 ],
 "metadata": {
  "colab": {
   "collapsed_sections": [
    "Bum2O0ohmBbX"
   ],
   "machine_shape": "hm",
   "name": "Santander__final_py.ipynb",
   "provenance": []
  },
  "kernelspec": {
   "display_name": "Python 3",
   "language": "python",
   "name": "python3"
  },
  "language_info": {
   "codemirror_mode": {
    "name": "ipython",
    "version": 3
   },
   "file_extension": ".py",
   "mimetype": "text/x-python",
   "name": "python",
   "nbconvert_exporter": "python",
   "pygments_lexer": "ipython3",
   "version": "3.7.4"
  }
 },
 "nbformat": 4,
 "nbformat_minor": 1
}
